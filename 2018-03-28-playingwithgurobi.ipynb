{
 "cells": [
  {
   "cell_type": "code",
   "execution_count": 2,
   "metadata": {
    "collapsed": false
   },
   "outputs": [],
   "source": [
    "from gurobipy import *"
   ]
  },
  {
   "cell_type": "code",
   "execution_count": 3,
   "metadata": {
    "collapsed": false
   },
   "outputs": [
    {
     "name": "stdout",
     "output_type": "stream",
     "text": [
      "Optimize a model with 2 rows, 3 columns and 5 nonzeros\n",
      "Variable types: 0 continuous, 3 integer (3 binary)\n",
      "Coefficient statistics:\n",
      "  Matrix range     [1e+00, 3e+00]\n",
      "  Objective range  [1e+00, 2e+00]\n",
      "  Bounds range     [1e+00, 1e+00]\n",
      "  RHS range        [1e+00, 4e+00]\n",
      "Found heuristic solution: objective 2.0000000\n",
      "Presolve removed 2 rows and 3 columns\n",
      "Presolve time: 0.01s\n",
      "Presolve: All rows and columns removed\n",
      "\n",
      "Explored 0 nodes (0 simplex iterations) in 0.03 seconds\n",
      "Thread count was 1 (of 4 available processors)\n",
      "\n",
      "Solution count 2: 3 2 \n",
      "\n",
      "Optimal solution found (tolerance 1.00e-04)\n",
      "Best objective 3.000000000000e+00, best bound 3.000000000000e+00, gap 0.0000%\n",
      "('x', 1.0)\n",
      "('y', 0.0)\n",
      "('z', 1.0)\n",
      "('Obj:', 3.0)\n"
     ]
    }
   ],
   "source": [
    "try:\n",
    "\n",
    "    # Create a new model\n",
    "    m = Model(\"mip1\")\n",
    "\n",
    "    # Create variables\n",
    "    x = m.addVar(vtype=GRB.BINARY, name=\"x\")\n",
    "    y = m.addVar(vtype=GRB.BINARY, name=\"y\")\n",
    "    z = m.addVar(vtype=GRB.BINARY, name=\"z\")\n",
    "\n",
    "    # Set objective\n",
    "    m.setObjective(x + y + 2 * z, GRB.MAXIMIZE)\n",
    "\n",
    "    # Add constraint: x + 2 y + 3 z <= 4\n",
    "    m.addConstr(x + 2 * y + 3 * z <= 4, \"c0\")\n",
    "\n",
    "    # Add constraint: x + y >= 1\n",
    "    m.addConstr(x + y >= 1, \"c1\")\n",
    "\n",
    "    m.optimize()\n",
    "\n",
    "    for v in m.getVars():\n",
    "        print(v.varName, v.x)\n",
    "\n",
    "    print('Obj:', m.objVal)\n",
    "\n",
    "except GurobiError:\n",
    "    print('Error reported')"
   ]
  },
  {
   "cell_type": "code",
   "execution_count": 4,
   "metadata": {
    "collapsed": false
   },
   "outputs": [
    {
     "name": "stdout",
     "output_type": "stream",
     "text": [
      "Optimize a model with 16 rows, 12 columns and 36 nonzeros\n",
      "Coefficient statistics:\n",
      "  Matrix range     [1e+00, 1e+00]\n",
      "  Objective range  [1e+01, 8e+01]\n",
      "  Bounds range     [0e+00, 0e+00]\n",
      "  RHS range        [1e+01, 1e+02]\n",
      "Presolve removed 16 rows and 12 columns\n",
      "Presolve time: 0.03s\n",
      "Presolve: All rows and columns removed\n",
      "Iteration    Objective       Primal Inf.    Dual Inf.      Time\n",
      "       0    5.5000000e+03   0.000000e+00   0.000000e+00      0s\n",
      "\n",
      "Solved in 0 iterations and 0.04 seconds\n",
      "Optimal objective  5.500000000e+03\n",
      "\n",
      "Optimal flows for Pencils:\n",
      "Denver -> Seattle: 10\n",
      "Denver -> New York: 50\n",
      "Detroit -> Boston: 50\n",
      "\n",
      "Optimal flows for Pens:\n",
      "Denver -> Seattle: 30\n",
      "Detroit -> New York: 30\n",
      "Detroit -> Boston: 30\n",
      "Denver -> Boston: 10\n"
     ]
    }
   ],
   "source": [
    "\n",
    "# Model data\n",
    "\n",
    "commodities = ['Pencils', 'Pens']\n",
    "nodes = ['Detroit', 'Denver', 'Boston', 'New York', 'Seattle']\n",
    "\n",
    "arcs, capacity = multidict({\n",
    "  ('Detroit', 'Boston'):   100,\n",
    "  ('Detroit', 'New York'):  80,\n",
    "  ('Detroit', 'Seattle'):  120,\n",
    "  ('Denver',  'Boston'):   120,\n",
    "  ('Denver',  'New York'): 120,\n",
    "  ('Denver',  'Seattle'):  120 })\n",
    "\n",
    "cost = {\n",
    "  ('Pencils', 'Detroit', 'Boston'):   10,\n",
    "  ('Pencils', 'Detroit', 'New York'): 20,\n",
    "  ('Pencils', 'Detroit', 'Seattle'):  60,\n",
    "  ('Pencils', 'Denver',  'Boston'):   40,\n",
    "  ('Pencils', 'Denver',  'New York'): 40,\n",
    "  ('Pencils', 'Denver',  'Seattle'):  30,\n",
    "  ('Pens',    'Detroit', 'Boston'):   20,\n",
    "  ('Pens',    'Detroit', 'New York'): 20,\n",
    "  ('Pens',    'Detroit', 'Seattle'):  80,\n",
    "  ('Pens',    'Denver',  'Boston'):   60,\n",
    "  ('Pens',    'Denver',  'New York'): 70,\n",
    "  ('Pens',    'Denver',  'Seattle'):  30 }\n",
    "\n",
    "inflow = {\n",
    "  ('Pencils', 'Detroit'):   50,\n",
    "  ('Pencils', 'Denver'):    60,\n",
    "  ('Pencils', 'Boston'):   -50,\n",
    "  ('Pencils', 'New York'): -50,\n",
    "  ('Pencils', 'Seattle'):  -10,\n",
    "  ('Pens',    'Detroit'):   60,\n",
    "  ('Pens',    'Denver'):    40,\n",
    "  ('Pens',    'Boston'):   -40,\n",
    "  ('Pens',    'New York'): -30,\n",
    "  ('Pens',    'Seattle'):  -30 }\n",
    "\n",
    "# Create optimization model\n",
    "m = Model('netflow')\n",
    "\n",
    "# Create variables\n",
    "flow = m.addVars(commodities, arcs, obj=cost, name=\"flow\")\n",
    "\n",
    "# Arc capacity constraints\n",
    "m.addConstrs(\n",
    "    (flow.sum('*',i,j) <= capacity[i,j] for i,j in arcs), \"cap\")\n",
    "\n",
    "\n",
    "# Flow conservation constraints\n",
    "m.addConstrs(\n",
    "    (flow.sum(h,'*',j) + inflow[h,j] == flow.sum(h,j,'*')\n",
    "    for h in commodities for j in nodes), \"node\")\n",
    "\n",
    "# Compute optimal solution\n",
    "m.optimize()\n",
    "\n",
    "# Print solution\n",
    "if m.status == GRB.Status.OPTIMAL:\n",
    "    solution = m.getAttr('x', flow)\n",
    "    for h in commodities:\n",
    "        print('\\nOptimal flows for %s:' % h)\n",
    "        for i,j in arcs:\n",
    "            if solution[h,i,j] > 0:\n",
    "                print('%s -> %s: %g' % (i, j, solution[h,i,j]))"
   ]
  },
  {
   "cell_type": "markdown",
   "metadata": {},
   "source": [
    "# Simplified Sengupta Paper "
   ]
  },
  {
   "cell_type": "code",
   "execution_count": null,
   "metadata": {
    "collapsed": true
   },
   "outputs": [],
   "source": [
    "# simple one attacker version of the Sengupta paper example\n",
    "\n",
    "# defender_reward[i][j] is reward for attacker action i on defender configuration j\n",
    "defender_rewards = [\n",
    "    [0, -5],\n",
    "    [-5, 0]\n",
    "]\n",
    "\n",
    "m = Model('test')\n",
    "\n",
    "x = []\n",
    "x.append(m.addVar(lb=0, ub=1, vtype=GRB.CONTINUOUS, name='x0'))\n",
    "x.append(m.addVar(lb=0, ub=1, vtype=GRB.CONTINUOUS, name='x1'))\n",
    "\n",
    "n=[]\n",
    "# whether attacker plays action 0 or action 1\n",
    "for j in range(2):\n",
    "    n.append(m.addVar(vtype=GRB.BINARY, name=\"n_{0}\".format(j)))\n",
    "    \n",
    "v = m.addVar(vtype=GRB.CONTINUOUS, name = 'v0')\n",
    "\n",
    "# Set objective\n",
    "m.setObjective(sum(defender_rewards[a][c] * x[c] * n[a] \\\n",
    "                   for a in [0,1] \\\n",
    "                   for c in [0,1]), GRB.MAXIMIZE)\n",
    "\n",
    "m.addConstr(sum(x) == 1, 'defender_strat')\n",
    "m.addConstr(sum(n) == 1, 'pure_attacker')\n",
    "# NOTE: plus defender rewards instead of minus defender rewards because we assume\n",
    "# this is a zero sum game \n",
    "m.addConstrs((0 <= v + sum(defender_rewards[a][c] * x[c] for c in range(2)) for a in range(2)), 'attackerstrat1')\n",
    "m.addConstrs((v + sum(defender_rewards[a][c] * x[c] for c in range(2)) <= (1 - n[a]) * 99999 for a in range(2)),\n",
    "            'attackerstrat2')\n",
    "\n",
    "m.optimize()\n",
    "         \n",
    "# m.addConstr(x + 2 * y + 3 * z <= 4, \"c0\")\n",
    "\n",
    "\n",
    "\n",
    "for var in m.getVars():\n",
    "    print(var.varName, var.x)\n",
    "print('Obj:', m.objVal)"
   ]
  },
  {
   "cell_type": "code",
   "execution_count": 11,
   "metadata": {
    "collapsed": false
   },
   "outputs": [],
   "source": [
    "# skills\n",
    "_, attacker_skill, attacker_skill_level = {\n",
    "    # name  tech. skill\n",
    "    'sk' : ('php', 4),\n",
    "    'sk' : ('mysql', 4)\n",
    "}\n",
    "# attack vars\n",
    "tech_attacks = {\n",
    "    # tech.     attack          ES. IS\n",
    "    'python': ('python_attack1', 1, 5),\n",
    "    'python': ('python_attack2', 8, 10),\n",
    "    'php' : ('php_attack1', 2, 4),\n",
    "    'php' : ('php_attack2', 3, 7),\n",
    "    'php' : ('php_attack3', 6, 8),\n",
    "    'mysql' : ('mysql_attack1', 8, 10)\n",
    "}"
   ]
  }
 ],
 "metadata": {
  "kernelspec": {
   "display_name": "Python 2",
   "language": "python",
   "name": "python2"
  },
  "language_info": {
   "codemirror_mode": {
    "name": "ipython",
    "version": 2
   },
   "file_extension": ".py",
   "mimetype": "text/x-python",
   "name": "python",
   "nbconvert_exporter": "python",
   "pygments_lexer": "ipython2",
   "version": "2.7.13"
  }
 },
 "nbformat": 4,
 "nbformat_minor": 2
}
