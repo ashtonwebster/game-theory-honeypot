{
 "cells": [
  {
   "cell_type": "code",
   "execution_count": 6,
   "metadata": {
    "collapsed": true
   },
   "outputs": [],
   "source": [
    "import json\n",
    "import pandas as pd\n",
    "import pickle"
   ]
  },
  {
   "cell_type": "code",
   "execution_count": 7,
   "metadata": {
    "collapsed": false
   },
   "outputs": [],
   "source": [
    "def cve_matches_name(cve, name):\n",
    "    for vendor in cve['cve']['affects']['vendor']['vendor_data']:\n",
    "        for product in vendor['product']['product_data']:\n",
    "            if product['product_name'] == name:\n",
    "                return True\n",
    "    return False\n",
    "\n"
   ]
  },
  {
   "cell_type": "code",
   "execution_count": 23,
   "metadata": {
    "collapsed": false
   },
   "outputs": [],
   "source": [
    "def find_vulns(product_name): #version_str):\n",
    "    results = []\n",
    "    for year in range(10,19):\n",
    "        j = json.load(open('/Users/ashton/school/cmsc828m/project/data/nvd_json/nvdcve-1.0-20' + str(year) + '.json'))\n",
    "        for cve in j[\"CVE_Items\"]:\n",
    "            #if j[\"CVE_Items\"][i][\"cve\"][\"CVE_data_meta\"]['ID'] in cve_ids:\n",
    "            #    results.append(j[\"CVE_Items\"][i])\n",
    "            if cve_matches_name(cve, product_name):\n",
    "                results.append(cve)\n",
    "        del j\n",
    "    print(\"unfiltered list: \", product_name, len(results))\n",
    "    return results\n",
    "\n",
    "def find_versions(all_vulns, version_str):\n",
    "    results2 = []\n",
    "    for r in all_vulns:\n",
    "        versions = []\n",
    "        for vd in r['cve']['affects']['vendor']['vendor_data']:\n",
    "            for pd in vd['product']['product_data']:\n",
    "                for version in pd['version']['version_data']:\n",
    "                    #print version\n",
    "                    versions.append(version['version_value'])\n",
    "        if version_str in versions:\n",
    "            results2.append({\"is\" : r['impact']['baseMetricV2']['impactScore'], \n",
    "                             \"es\" : r[\"impact\"]['baseMetricV2'][\"exploitabilityScore\"],\n",
    "                             \"bs\" : r[\"impact\"]['baseMetricV2'][\"cvssV2\"][\"baseScore\"],\n",
    "                             \"cve_id\" : r[\"cve\"][\"CVE_data_meta\"][\"ID\"]})\n",
    "    #results[0]['cve']['affects']['vendor']['vendor_data']#['version_data']\n",
    "    print(\"final filtered: \", version_str, len(results2))\n",
    "    return results2\n",
    "\n",
    "#django_cves = find_vulns(\"php\")\n",
    "#len(django_cves)\n",
    "#django_1_7_cves = find_versions(django_cves, \"1.7\")"
   ]
  },
  {
   "cell_type": "code",
   "execution_count": 16,
   "metadata": {
    "collapsed": false
   },
   "outputs": [],
   "source": [
    "def get_attacks(attacker_skill_level, attack_set):\n",
    "    return [a for a in attack_set if a[\"es\"] <= attacker_skill_level]\n",
    "\n",
    "def get_attacks_rel(percentile, attack_set):\n",
    "    return sorted(attack_set, key=lambda x: x['es'])[:int(len(attack_set) * percentile)]\n",
    "\n",
    "#get_attacks(7, django_1_7_cves)"
   ]
  },
  {
   "cell_type": "code",
   "execution_count": 20,
   "metadata": {
    "collapsed": false
   },
   "outputs": [
    {
     "name": "stdout",
     "output_type": "stream",
     "text": [
      "('unfiltered list: ', 'jenkins', 94)\n",
      "('unfiltered list: ', 'mongodb', 12)\n",
      "('unfiltered list: ', 'php', 318)\n",
      "('unfiltered list: ', 'django', 57)\n",
      "('unfiltered list: ', 'postgresql', 55)\n",
      "('unfiltered list: ', 'mysql', 504)\n",
      "('unfiltered list: ', 'tomcat', 91)\n",
      "('unfiltered list: ', 'httpd', 0)\n",
      "('unfiltered list: ', 'drupal', 87)\n",
      "('unfiltered list: ', 'moodle', 292)\n",
      "('unfiltered list: ', 'iis', 10)\n",
      "('unfiltered list: ', 'wordpress', 162)\n",
      "('unfiltered list: ', 'squid', 40)\n",
      "('unfiltered list: ', 'memcached', 11)\n",
      "('unfiltered list: ', 'hadoop', 17)\n",
      "('unfiltered list: ', 'jira', 19)\n"
     ]
    }
   ],
   "source": [
    "product_cves = {}\n",
    "for product in ['jenkins', 'mongodb', 'php', 'django', 'postgresql',\n",
    "               \"mysql\", \"tomcat\" , \"http_server\", \"drupal\", \"moodle\", \"iis\", \"wordpress\", \"squid\", \n",
    "               \"memcached\", \"hadoop\", \"jira\"]:\n",
    "    product_cves[product] = find_vulns(product)    "
   ]
  },
  {
   "cell_type": "code",
   "execution_count": 42,
   "metadata": {
    "collapsed": false
   },
   "outputs": [
    {
     "name": "stdout",
     "output_type": "stream",
     "text": [
      "('unfiltered list: ', 'http_server', 68)\n"
     ]
    }
   ],
   "source": [
    "product_cves['http_server'] = find_vulns('http_server')"
   ]
  },
  {
   "cell_type": "code",
   "execution_count": 43,
   "metadata": {
    "collapsed": true
   },
   "outputs": [],
   "source": [
    "versions = {'django' : \"1.7\", \n",
    "            \"mongodb\" :  \"2.4.3\",\n",
    "            \"php\" : \"7.0.0\" ,\n",
    "            \"postgresql\" : \"9.5\",\n",
    "            \"jenkins\" : \"1.625.1\",\n",
    "           \"mysql\" : \"5.5.19\",\n",
    "           \"tomcat\" : \"6.0.10\",\n",
    "           \"http_server\" : \"2.0.39\",\n",
    "           \"drupal\" : \"6.0\", \n",
    "           \"moodle\" : \"2.1\",\n",
    "           \"iis\" : \"6.0\",\n",
    "           \"wordpress\" : \"2.0\",\n",
    "           \"squid\" : \"3.2.0.3\",\n",
    "           \"memcached\" : \"1.4.15\",\n",
    "           \"hadoop\" : \"2.0.0\",\n",
    "           \"jira\" : \"3.12\"}\n"
   ]
  },
  {
   "cell_type": "code",
   "execution_count": 44,
   "metadata": {
    "collapsed": false,
    "scrolled": false
   },
   "outputs": [
    {
     "name": "stdout",
     "output_type": "stream",
     "text": [
      "('final filtered: ', '3.12', 9)\n",
      "('final filtered: ', '9.5', 16)\n",
      "('final filtered: ', '6.0', 3)\n",
      "('final filtered: ', '6.0.10', 46)\n",
      "('final filtered: ', '6.0', 38)\n",
      "('final filtered: ', '2.4.3', 4)\n",
      "('final filtered: ', '3.2.0.3', 25)\n",
      "('final filtered: ', '2.0.0', 6)\n",
      "('final filtered: ', '2.1', 110)\n",
      "('final filtered: ', '1.7', 19)\n",
      "('final filtered: ', '2.0', 37)\n",
      "('final filtered: ', '2.0.39', 15)\n",
      "('final filtered: ', '5.5.19', 159)\n",
      "('final filtered: ', '1.625.1', 16)\n",
      "('final filtered: ', '7.0.0', 85)\n",
      "('final filtered: ', '1.4.15', 4)\n"
     ]
    }
   ],
   "source": [
    "product_version_cves = {}\n",
    "for k, v in versions.items():\n",
    "    product_version_cves[k] = find_versions(product_cves[k], v)\n",
    "\n",
    "#product_version_cves['php']"
   ]
  },
  {
   "cell_type": "code",
   "execution_count": 46,
   "metadata": {
    "collapsed": false
   },
   "outputs": [],
   "source": [
    "# get rewards based on relative rankings (top 50%, top 75% etc.)\n",
    "rewards = []\n",
    "attacker_skill = [0.5, 0.75, 1]\n",
    "services = sorted(versions.keys())\n",
    "for s in services:\n",
    "    theta = []\n",
    "    for a in attacker_skill:\n",
    "        theta.append(get_attacks_rel(a, product_version_cves[s]))\n",
    "    rewards.append(theta)\n",
    "    "
   ]
  },
  {
   "cell_type": "code",
   "execution_count": 62,
   "metadata": {
    "collapsed": false
   },
   "outputs": [],
   "source": [
    "# get rewards based on absolute skill (ES score thresholds)\n",
    "rewards = []\n",
    "attacker_skill = [6, 8, 10]\n",
    "services = sorted(versions.keys())\n",
    "for s in versions.keys():\n",
    "    theta = []\n",
    "    for a in attacker_skill:\n",
    "        theta.append(get_attacks(a, product_version_cves[s]))\n",
    "    rewards.append(theta)\n",
    "    "
   ]
  },
  {
   "cell_type": "code",
   "execution_count": 63,
   "metadata": {
    "collapsed": true
   },
   "outputs": [],
   "source": [
    "# removing attacks which are strictly dominated \n",
    "new_rewards = []\n",
    "for s in range(len(rewards)):\n",
    "    new_rewards.append([])\n",
    "    for theta in range(len(rewards[s])):\n",
    "        new_rewards[s].append([])\n",
    "        already_added = []\n",
    "        for a_1 in rewards[s][theta]:\n",
    "            if not any(a_2['bs'] >= a_1['bs'] and a_2['es'] < a_1['es'] for a_2 in rewards[s][theta]) and \\\n",
    "                    not (a_1['bs'], a_1['es']) in already_added:\n",
    "                new_rewards[s][theta].append(a_1)\n",
    "                already_added.append((a_1['bs'], a_1['es']))"
   ]
  },
  {
   "cell_type": "code",
   "execution_count": 64,
   "metadata": {
    "collapsed": false,
    "scrolled": true
   },
   "outputs": [
    {
     "data": {
      "text/html": [
       "<div>\n",
       "<style>\n",
       "    .dataframe thead tr:only-child th {\n",
       "        text-align: right;\n",
       "    }\n",
       "\n",
       "    .dataframe thead th {\n",
       "        text-align: left;\n",
       "    }\n",
       "\n",
       "    .dataframe tbody tr th {\n",
       "        vertical-align: top;\n",
       "    }\n",
       "</style>\n",
       "<table border=\"1\" class=\"dataframe\">\n",
       "  <thead>\n",
       "    <tr style=\"text-align: right;\">\n",
       "      <th></th>\n",
       "      <th>service</th>\n",
       "      <th>version</th>\n",
       "      <th>original vulns</th>\n",
       "      <th>undominated vulns</th>\n",
       "      <th>a1</th>\n",
       "      <th>a2</th>\n",
       "      <th>a3</th>\n",
       "    </tr>\n",
       "  </thead>\n",
       "  <tbody>\n",
       "    <tr>\n",
       "      <th>0</th>\n",
       "      <td>django</td>\n",
       "      <td>1.7</td>\n",
       "      <td>19</td>\n",
       "      <td>4</td>\n",
       "      <td>0</td>\n",
       "      <td>2</td>\n",
       "      <td>2</td>\n",
       "    </tr>\n",
       "    <tr>\n",
       "      <th>1</th>\n",
       "      <td>drupal</td>\n",
       "      <td>6.0</td>\n",
       "      <td>38</td>\n",
       "      <td>8</td>\n",
       "      <td>2</td>\n",
       "      <td>3</td>\n",
       "      <td>3</td>\n",
       "    </tr>\n",
       "    <tr>\n",
       "      <th>2</th>\n",
       "      <td>hadoop</td>\n",
       "      <td>2.0.0</td>\n",
       "      <td>6</td>\n",
       "      <td>3</td>\n",
       "      <td>0</td>\n",
       "      <td>1</td>\n",
       "      <td>2</td>\n",
       "    </tr>\n",
       "    <tr>\n",
       "      <th>3</th>\n",
       "      <td>http_server</td>\n",
       "      <td>2.0.39</td>\n",
       "      <td>15</td>\n",
       "      <td>14</td>\n",
       "      <td>3</td>\n",
       "      <td>4</td>\n",
       "      <td>7</td>\n",
       "    </tr>\n",
       "    <tr>\n",
       "      <th>4</th>\n",
       "      <td>iis</td>\n",
       "      <td>6.0</td>\n",
       "      <td>3</td>\n",
       "      <td>13</td>\n",
       "      <td>3</td>\n",
       "      <td>5</td>\n",
       "      <td>5</td>\n",
       "    </tr>\n",
       "    <tr>\n",
       "      <th>5</th>\n",
       "      <td>jenkins</td>\n",
       "      <td>1.625.1</td>\n",
       "      <td>16</td>\n",
       "      <td>5</td>\n",
       "      <td>1</td>\n",
       "      <td>2</td>\n",
       "      <td>2</td>\n",
       "    </tr>\n",
       "    <tr>\n",
       "      <th>6</th>\n",
       "      <td>jira</td>\n",
       "      <td>3.12</td>\n",
       "      <td>9</td>\n",
       "      <td>7</td>\n",
       "      <td>1</td>\n",
       "      <td>1</td>\n",
       "      <td>5</td>\n",
       "    </tr>\n",
       "    <tr>\n",
       "      <th>7</th>\n",
       "      <td>memcached</td>\n",
       "      <td>1.4.15</td>\n",
       "      <td>4</td>\n",
       "      <td>7</td>\n",
       "      <td>1</td>\n",
       "      <td>2</td>\n",
       "      <td>4</td>\n",
       "    </tr>\n",
       "    <tr>\n",
       "      <th>8</th>\n",
       "      <td>mongodb</td>\n",
       "      <td>2.4.3</td>\n",
       "      <td>4</td>\n",
       "      <td>15</td>\n",
       "      <td>2</td>\n",
       "      <td>6</td>\n",
       "      <td>7</td>\n",
       "    </tr>\n",
       "    <tr>\n",
       "      <th>9</th>\n",
       "      <td>moodle</td>\n",
       "      <td>2.1</td>\n",
       "      <td>110</td>\n",
       "      <td>8</td>\n",
       "      <td>1</td>\n",
       "      <td>2</td>\n",
       "      <td>5</td>\n",
       "    </tr>\n",
       "    <tr>\n",
       "      <th>10</th>\n",
       "      <td>mysql</td>\n",
       "      <td>5.5.19</td>\n",
       "      <td>159</td>\n",
       "      <td>14</td>\n",
       "      <td>1</td>\n",
       "      <td>5</td>\n",
       "      <td>8</td>\n",
       "    </tr>\n",
       "    <tr>\n",
       "      <th>11</th>\n",
       "      <td>php</td>\n",
       "      <td>7.0.0</td>\n",
       "      <td>85</td>\n",
       "      <td>12</td>\n",
       "      <td>3</td>\n",
       "      <td>3</td>\n",
       "      <td>6</td>\n",
       "    </tr>\n",
       "    <tr>\n",
       "      <th>12</th>\n",
       "      <td>postgresql</td>\n",
       "      <td>9.5</td>\n",
       "      <td>16</td>\n",
       "      <td>24</td>\n",
       "      <td>5</td>\n",
       "      <td>9</td>\n",
       "      <td>10</td>\n",
       "    </tr>\n",
       "    <tr>\n",
       "      <th>13</th>\n",
       "      <td>squid</td>\n",
       "      <td>3.2.0.3</td>\n",
       "      <td>25</td>\n",
       "      <td>3</td>\n",
       "      <td>1</td>\n",
       "      <td>1</td>\n",
       "      <td>1</td>\n",
       "    </tr>\n",
       "    <tr>\n",
       "      <th>14</th>\n",
       "      <td>tomcat</td>\n",
       "      <td>6.0.10</td>\n",
       "      <td>46</td>\n",
       "      <td>4</td>\n",
       "      <td>0</td>\n",
       "      <td>0</td>\n",
       "      <td>4</td>\n",
       "    </tr>\n",
       "    <tr>\n",
       "      <th>15</th>\n",
       "      <td>wordpress</td>\n",
       "      <td>2.0</td>\n",
       "      <td>37</td>\n",
       "      <td>5</td>\n",
       "      <td>1</td>\n",
       "      <td>2</td>\n",
       "      <td>2</td>\n",
       "    </tr>\n",
       "  </tbody>\n",
       "</table>\n",
       "</div>"
      ],
      "text/plain": [
       "        service  version  original vulns  undominated vulns  a1  a2  a3\n",
       "0        django      1.7              19                  4   0   2   2\n",
       "1        drupal      6.0              38                  8   2   3   3\n",
       "2        hadoop    2.0.0               6                  3   0   1   2\n",
       "3   http_server   2.0.39              15                 14   3   4   7\n",
       "4           iis      6.0               3                 13   3   5   5\n",
       "5       jenkins  1.625.1              16                  5   1   2   2\n",
       "6          jira     3.12               9                  7   1   1   5\n",
       "7     memcached   1.4.15               4                  7   1   2   4\n",
       "8       mongodb    2.4.3               4                 15   2   6   7\n",
       "9        moodle      2.1             110                  8   1   2   5\n",
       "10        mysql   5.5.19             159                 14   1   5   8\n",
       "11          php    7.0.0              85                 12   3   3   6\n",
       "12   postgresql      9.5              16                 24   5   9  10\n",
       "13        squid  3.2.0.3              25                  3   1   1   1\n",
       "14       tomcat   6.0.10              46                  4   0   0   4\n",
       "15    wordpress      2.0              37                  5   1   2   2"
      ]
     },
     "execution_count": 64,
     "metadata": {},
     "output_type": "execute_result"
    }
   ],
   "source": [
    "results = []\n",
    "for i, s in enumerate(services):\n",
    "    d = {\"service\" : s, \"version\" : versions[s], \"a1\" : len(new_rewards[i][0]), \"a2\" : len(new_rewards[i][1]), \"a3\" : len(new_rewards[i][2]),\\\n",
    "        \"original vulns\" : len(product_version_cves[s])}\n",
    "    d['undominated vulns'] = d['a1'] + d['a2'] + d['a3']\n",
    "    results.append(d)\n",
    "    \n",
    "df = pd.DataFrame(results, columns=[\"service\", 'version', 'original vulns', 'undominated vulns', 'a1', 'a2', 'a3'])\n",
    "df"
   ]
  },
  {
   "cell_type": "code",
   "execution_count": 65,
   "metadata": {
    "collapsed": false
   },
   "outputs": [],
   "source": [
    "pickle.dump(rewards, open('/Users/ashton/school/cmsc828m/project/data/attacker_actions/20180429-rewards.pickle', 'wb'))"
   ]
  },
  {
   "cell_type": "code",
   "execution_count": 66,
   "metadata": {
    "collapsed": true
   },
   "outputs": [],
   "source": [
    "pickle.dump(services,  open('/Users/ashton/school/cmsc828m/project/data/attacker_actions/20180429-services.pickle', 'wb'))"
   ]
  },
  {
   "cell_type": "code",
   "execution_count": 68,
   "metadata": {
    "collapsed": false
   },
   "outputs": [],
   "source": [
    "df.to_csv('/Users/ashton/school/cmsc828m/project/data/attacker_actions/20180429-rewards-table.csv', index=False)"
   ]
  },
  {
   "cell_type": "code",
   "execution_count": 69,
   "metadata": {
    "collapsed": false
   },
   "outputs": [
    {
     "data": {
      "text/plain": [
       "'service,version,original vulns,undominated vulns,a1,a2,a3\\ndjango,1.7,19,4,0,2,2\\ndrupal,6.0,38,8,2,3,3\\nhadoop,2.0.0,6,3,0,1,2\\nhttp_server,2.0.39,15,14,3,4,7\\niis,6.0,3,13,3,5,5\\njenkins,1.625.1,16,5,1,2,2\\njira,3.12,9,7,1,1,5\\nmemcached,1.4.15,4,7,1,2,4\\nmongodb,2.4.3,4,15,2,6,7\\nmoodle,2.1,110,8,1,2,5\\nmysql,5.5.19,159,14,1,5,8\\nphp,7.0.0,85,12,3,3,6\\npostgresql,9.5,16,24,5,9,10\\nsquid,3.2.0.3,25,3,1,1,1\\ntomcat,6.0.10,46,4,0,0,4\\nwordpress,2.0,37,5,1,2,2\\n'"
      ]
     },
     "execution_count": 69,
     "metadata": {},
     "output_type": "execute_result"
    }
   ],
   "source": [
    "with open('/Users/ashton/school/cmsc828m/project/data/attacker_actions/20180429-rewards-table.csv') as f:\n",
    "    s = f.read()\n",
    "s"
   ]
  },
  {
   "cell_type": "code",
   "execution_count": 70,
   "metadata": {
    "collapsed": false
   },
   "outputs": [
    {
     "name": "stdout",
     "output_type": "stream",
     "text": [
      "service & version & original vulns & undominated vulns & a1 & a2 & a3\\tabularnewline\n",
      "django & 1.7 & 19 & 4 & 0 & 2 & 2\\tabularnewline\n",
      "drupal & 6.0 & 38 & 8 & 2 & 3 & 3\\tabularnewline\n",
      "hadoop & 2.0.0 & 6 & 3 & 0 & 1 & 2\\tabularnewline\n",
      "http_server & 2.0.39 & 15 & 14 & 3 & 4 & 7\\tabularnewline\n",
      "iis & 6.0 & 3 & 13 & 3 & 5 & 5\\tabularnewline\n",
      "jenkins & 1.625.1 & 16 & 5 & 1 & 2 & 2\\tabularnewline\n",
      "jira & 3.12 & 9 & 7 & 1 & 1 & 5\\tabularnewline\n",
      "memcached & 1.4.15 & 4 & 7 & 1 & 2 & 4\\tabularnewline\n",
      "mongodb & 2.4.3 & 4 & 15 & 2 & 6 & 7\\tabularnewline\n",
      "moodle & 2.1 & 110 & 8 & 1 & 2 & 5\\tabularnewline\n",
      "mysql & 5.5.19 & 159 & 14 & 1 & 5 & 8\\tabularnewline\n",
      "php & 7.0.0 & 85 & 12 & 3 & 3 & 6\\tabularnewline\n",
      "postgresql & 9.5 & 16 & 24 & 5 & 9 & 10\\tabularnewline\n",
      "squid & 3.2.0.3 & 25 & 3 & 1 & 1 & 1\\tabularnewline\n",
      "tomcat & 6.0.10 & 46 & 4 & 0 & 0 & 4\\tabularnewline\n",
      "wordpress & 2.0 & 37 & 5 & 1 & 2 & 2\\tabularnewline\n",
      "\n"
     ]
    }
   ],
   "source": [
    "print(s.replace(',', \" & \").replace(\"\\n\", \"\\\\tabularnewline\\n\"))"
   ]
  },
  {
   "cell_type": "code",
   "execution_count": null,
   "metadata": {
    "collapsed": true
   },
   "outputs": [],
   "source": []
  }
 ],
 "metadata": {
  "kernelspec": {
   "display_name": "Python 2",
   "language": "python",
   "name": "python2"
  },
  "language_info": {
   "codemirror_mode": {
    "name": "ipython",
    "version": 2
   },
   "file_extension": ".py",
   "mimetype": "text/x-python",
   "name": "python",
   "nbconvert_exporter": "python",
   "pygments_lexer": "ipython2",
   "version": "2.7.13"
  }
 },
 "nbformat": 4,
 "nbformat_minor": 2
}
