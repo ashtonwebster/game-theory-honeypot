{
 "cells": [
  {
   "cell_type": "code",
   "execution_count": 1,
   "metadata": {
    "collapsed": true
   },
   "outputs": [],
   "source": [
    "import json\n",
    "import pandas as pd\n",
    "import pickle"
   ]
  },
  {
   "cell_type": "code",
   "execution_count": 68,
   "metadata": {
    "collapsed": false
   },
   "outputs": [],
   "source": [
    "#j = json.load(open('/Users/ashton/school/cmsc828m/project/data/nvdcve-1.0-2017.json'))\n",
    "del j"
   ]
  },
  {
   "cell_type": "code",
   "execution_count": 55,
   "metadata": {
    "collapsed": false
   },
   "outputs": [
    {
     "data": {
      "text/plain": [
       "25"
      ]
     },
     "execution_count": 55,
     "metadata": {},
     "output_type": "execute_result"
    }
   ],
   "source": [
    "def cve_matches_name(cve, name):\n",
    "    for vendor in cve['cve']['affects']['vendor']['vendor_data']:\n",
    "        for product in vendor['product']['product_data']:\n",
    "            if product['product_name'] == name:\n",
    "                return True\n",
    "    return False\n",
    "\n"
   ]
  },
  {
   "cell_type": "code",
   "execution_count": 60,
   "metadata": {
    "collapsed": false
   },
   "outputs": [
    {
     "name": "stdout",
     "output_type": "stream",
     "text": [
      "('unfiltered list: ', 318)\n"
     ]
    },
    {
     "data": {
      "text/plain": [
       "318"
      ]
     },
     "execution_count": 60,
     "metadata": {},
     "output_type": "execute_result"
    }
   ],
   "source": [
    "def find_vulns(product_name): #version_str):\n",
    "    results = []\n",
    "    for year in range(10,19):\n",
    "        j = json.load(open('/Users/ashton/school/cmsc828m/project/data/nvd_json/nvdcve-1.0-20' + str(year) + '.json'))\n",
    "        for cve in j[\"CVE_Items\"]:\n",
    "            #if j[\"CVE_Items\"][i][\"cve\"][\"CVE_data_meta\"]['ID'] in cve_ids:\n",
    "            #    results.append(j[\"CVE_Items\"][i])\n",
    "            if cve_matches_name(cve, product_name):\n",
    "                results.append(cve)\n",
    "        del j\n",
    "    print(\"unfiltered list: \", len(results))\n",
    "    return results\n",
    "\n",
    "def find_versions(all_vulns, version_str):\n",
    "    results2 = []\n",
    "    for r in all_vulns:\n",
    "        versions = []\n",
    "        for vd in r['cve']['affects']['vendor']['vendor_data']:\n",
    "            for pd in vd['product']['product_data']:\n",
    "                for version in pd['version']['version_data']:\n",
    "                    #print version\n",
    "                    versions.append(version['version_value'])\n",
    "        if version_str in versions:\n",
    "            results2.append({\"is\" : r['impact']['baseMetricV2']['impactScore'], \n",
    "                             \"es\" : r[\"impact\"]['baseMetricV2'][\"exploitabilityScore\"],\n",
    "                             \"bs\" : r[\"impact\"]['baseMetricV2'][\"cvssV2\"][\"baseScore\"],\n",
    "                             \"cve_id\" : r[\"cve\"][\"CVE_data_meta\"][\"ID\"]})\n",
    "    #results[0]['cve']['affects']['vendor']['vendor_data']#['version_data']\n",
    "    print(\"final filtered: \", len(results2))\n",
    "    return results2\n",
    "\n",
    "django_cves = find_vulns(\"php\")\n",
    "len(django_cves)\n",
    "#django_1_7_cves = find_versions(django_cves, \"1.7\")"
   ]
  },
  {
   "cell_type": "code",
   "execution_count": 89,
   "metadata": {
    "collapsed": false
   },
   "outputs": [],
   "source": [
    "def get_attacks(attacker_skill_level, attack_set):\n",
    "    return [a for a in attack_set if a[\"es\"] <= attacker_skill_level]\n",
    "\n",
    "def get_attacks_rel(percentile, attack_set):\n",
    "    return sorted(attack_set, key=lambda x: x['es'])[:int(len(attack_set) * percentile)]\n",
    "\n",
    "#get_attacks(7, django_1_7_cves)"
   ]
  },
  {
   "cell_type": "code",
   "execution_count": 81,
   "metadata": {
    "collapsed": false
   },
   "outputs": [
    {
     "name": "stdout",
     "output_type": "stream",
     "text": [
      "('unfiltered list: ', 12)\n",
      "('unfiltered list: ', 318)\n",
      "('unfiltered list: ', 57)\n",
      "('unfiltered list: ', 55)\n"
     ]
    }
   ],
   "source": [
    "product_cves = {}\n",
    "for product in ['mongodb', 'php', 'django', 'postgresql']:\n",
    "    product_cves[product] = find_vulns(product)    "
   ]
  },
  {
   "cell_type": "code",
   "execution_count": 82,
   "metadata": {
    "collapsed": true
   },
   "outputs": [],
   "source": [
    "versions = {'django' : \"1.7\", \n",
    "            \"mongodb\" :  \"2.4.3\",\n",
    "            \"php\" : \"7.0.0\" ,\n",
    "            \"postgresql\" : \"9.5\"}"
   ]
  },
  {
   "cell_type": "code",
   "execution_count": 83,
   "metadata": {
    "collapsed": false,
    "scrolled": false
   },
   "outputs": [
    {
     "name": "stdout",
     "output_type": "stream",
     "text": [
      "('final filtered: ', 4)\n",
      "('final filtered: ', 85)\n",
      "('final filtered: ', 16)\n",
      "('final filtered: ', 19)\n"
     ]
    }
   ],
   "source": [
    "product_version_cves = {}\n",
    "for k, v in versions.items():\n",
    "    product_version_cves[k] = find_versions(product_cves[k], v)\n",
    "\n",
    "#product_version_cves['php']"
   ]
  },
  {
   "cell_type": "code",
   "execution_count": 111,
   "metadata": {
    "collapsed": false
   },
   "outputs": [],
   "source": [
    "rewards = []\n",
    "attacker_skill = [0.5, 0.75, 1]\n",
    "services = []\n",
    "for s in versions.keys():\n",
    "    services.append(s)\n",
    "    theta = []\n",
    "    for a in attacker_skill:\n",
    "        theta.append(get_attacks_rel(a, product_version_cves[s]))\n",
    "    rewards.append(theta)\n",
    "    "
   ]
  },
  {
   "cell_type": "code",
   "execution_count": 112,
   "metadata": {
    "collapsed": false
   },
   "outputs": [
    {
     "data": {
      "text/plain": [
       "[[{'bs': 2.1, 'cve_id': u'CVE-2016-6494', 'es': 3.9, 'is': 2.9},\n",
       "  {'bs': 6.5, 'cve_id': u'CVE-2013-3969', 'es': 8.0, 'is': 6.4}],\n",
       " [{'bs': 2.1, 'cve_id': u'CVE-2016-6494', 'es': 3.9, 'is': 2.9},\n",
       "  {'bs': 6.5, 'cve_id': u'CVE-2013-3969', 'es': 8.0, 'is': 6.4},\n",
       "  {'bs': 6.5, 'cve_id': u'CVE-2013-4650', 'es': 8.0, 'is': 6.4}],\n",
       " [{'bs': 2.1, 'cve_id': u'CVE-2016-6494', 'es': 3.9, 'is': 2.9},\n",
       "  {'bs': 6.5, 'cve_id': u'CVE-2013-3969', 'es': 8.0, 'is': 6.4},\n",
       "  {'bs': 6.5, 'cve_id': u'CVE-2013-4650', 'es': 8.0, 'is': 6.4},\n",
       "  {'bs': 4.3, 'cve_id': u'CVE-2013-2132', 'es': 8.6, 'is': 2.9}]]"
      ]
     },
     "execution_count": 112,
     "metadata": {},
     "output_type": "execute_result"
    }
   ],
   "source": [
    "rewards[0]"
   ]
  },
  {
   "cell_type": "code",
   "execution_count": 108,
   "metadata": {
    "collapsed": false
   },
   "outputs": [],
   "source": [
    "pickle.dump(rewards, open('/Users/ashton/school/cmsc828m/project/data/attacker_actions/20180407-rewards.pickle', 'wb'))"
   ]
  },
  {
   "cell_type": "code",
   "execution_count": 117,
   "metadata": {
    "collapsed": false
   },
   "outputs": [],
   "source": [
    "rewards = []\n",
    "attacker_skill = [6, 8, 10]\n",
    "services = []\n",
    "for s in versions.keys():\n",
    "    services.append(s)\n",
    "    theta = []\n",
    "    for a in attacker_skill:\n",
    "        theta.append(get_attacks(a, product_version_cves[s]))\n",
    "    rewards.append(theta)\n",
    "    "
   ]
  },
  {
   "cell_type": "code",
   "execution_count": 127,
   "metadata": {
    "collapsed": true
   },
   "outputs": [],
   "source": [
    "pickle.dump(rewards, open('/Users/ashton/school/cmsc828m/project/data/attacker_actions/20180411-rewards.pickle', 'wb'))"
   ]
  },
  {
   "cell_type": "code",
   "execution_count": 123,
   "metadata": {
    "collapsed": false
   },
   "outputs": [
    {
     "data": {
      "text/plain": [
       "[{'bs': 4.6, 'cve_id': u'CVE-2016-5424', 'es': 3.9, 'is': 6.4},\n",
       " {'bs': 7.2, 'cve_id': u'CVE-2017-12172', 'es': 3.9, 'is': 10.0}]"
      ]
     },
     "execution_count": 123,
     "metadata": {},
     "output_type": "execute_result"
    }
   ],
   "source": [
    "rewards[2][0]"
   ]
  },
  {
   "cell_type": "code",
   "execution_count": 124,
   "metadata": {
    "collapsed": false
   },
   "outputs": [
    {
     "data": {
      "text/plain": [
       "['mongodb', 'php', 'postgresql', 'django']"
      ]
     },
     "execution_count": 124,
     "metadata": {},
     "output_type": "execute_result"
    }
   ],
   "source": [
    "services"
   ]
  },
  {
   "cell_type": "code",
   "execution_count": 126,
   "metadata": {
    "collapsed": false
   },
   "outputs": [
    {
     "data": {
      "text/plain": [
       "[('mongodb', 4), ('php', 85), ('postgresql', 16), ('django', 19)]"
      ]
     },
     "execution_count": 126,
     "metadata": {},
     "output_type": "execute_result"
    }
   ],
   "source": [
    "[(service, len(product_version_cves[service])) for service in services]"
   ]
  },
  {
   "cell_type": "code",
   "execution_count": null,
   "metadata": {
    "collapsed": true
   },
   "outputs": [],
   "source": []
  }
 ],
 "metadata": {
  "kernelspec": {
   "display_name": "Python 2",
   "language": "python",
   "name": "python2"
  },
  "language_info": {
   "codemirror_mode": {
    "name": "ipython",
    "version": 2
   },
   "file_extension": ".py",
   "mimetype": "text/x-python",
   "name": "python",
   "nbconvert_exporter": "python",
   "pygments_lexer": "ipython2",
   "version": "2.7.13"
  }
 },
 "nbformat": 4,
 "nbformat_minor": 2
}
