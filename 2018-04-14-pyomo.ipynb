{
 "cells": [
  {
   "cell_type": "code",
   "execution_count": 123,
   "metadata": {
    "collapsed": false
   },
   "outputs": [],
   "source": [
    "from pyomo.environ import *\n",
    "import pyomo.opt\n",
    "import time\n",
    "from time import strftime\n",
    "import os"
   ]
  },
  {
   "cell_type": "code",
   "execution_count": 2,
   "metadata": {
    "collapsed": false,
    "scrolled": true
   },
   "outputs": [
    {
     "name": "stdout",
     "output_type": "stream",
     "text": [
      "Solver log file: '/var/folders/bp/mm3fnf9j6fg_kwpplwd4dzyw0000gn/T/tmpbi1kn7_bonmin.log'\n",
      "Solver solution file: '/var/folders/bp/mm3fnf9j6fg_kwpplwd4dzyw0000gn/T/tmpCAUoXG.pyomo.sol'\n",
      "Solver problem files: ('/var/folders/bp/mm3fnf9j6fg_kwpplwd4dzyw0000gn/T/tmpCAUoXG.pyomo.nl',)\n",
      "Bonmin 1.8.6 using Cbc 2.9.9 and Ipopt 3.12.8\n",
      "bonmin: \n",
      "\n",
      "******************************************************************************\n",
      "This program contains Ipopt, a library for large-scale nonlinear optimization.\n",
      " Ipopt is released as open source code under the Eclipse Public License (EPL).\n",
      "         For more information visit http://projects.coin-or.org/Ipopt\n",
      "******************************************************************************\n",
      "\n",
      "NLP0012I \n",
      "              Num      Status      Obj             It       time                 Location\n",
      "NLP0014I             1         OPT -1.6094379       10 0.004578\n",
      "NLP0012I \n",
      "              Num      Status      Obj             It       time                 Location\n",
      "NLP0014I             1         OPT -1.6094379        5 0.002247\n",
      "NLP0012I \n",
      "              Num      Status      Obj             It       time                 Location\n",
      "NLP0014I             1         OPT -1.6094379        5 0.002272\n",
      "Cbc0012I Integer solution of -1.6094379 found by DiveMIPFractional after 0 iterations and 0 nodes (0.01 seconds)\n",
      "Cbc0001I Search completed - best objective -1.6094379224241, took 0 iterations and 0 nodes (0.01 seconds)\n",
      "Cbc0035I Maximum depth 0, 0 variables fixed on reduced cost\n",
      "\b\b\b\b\b\b\b\b\n",
      " \t\"Finished\"\n"
     ]
    },
    {
     "data": {
      "text/plain": [
       "{'Problem': [{'Number of objectives': 1, 'Lower bound': -inf, 'Number of variables': 5, 'Upper bound': inf, 'Sense': 'unknown', 'Number of constraints': 0}], 'Solution': [OrderedDict([('number of solutions', 0), ('number of solutions displayed', 0)])], 'Solver': [{'Status': 'ok', 'Termination condition': 'optimal', 'Time': 0.15975499153137207, 'Message': 'bonmin\\\\x3a Optimal', 'Error rc': 0, 'Id': 3}]}"
      ]
     },
     "execution_count": 2,
     "metadata": {},
     "output_type": "execute_result"
    }
   ],
   "source": [
    "m = ConcreteModel()\n",
    "m.bin = Var(domain=Binary)\n",
    "m.b = Var(domain=PositiveReals)\n",
    "m.c = Var(domain=PositiveReals)\n",
    "m.d = Var(domain=Integers)\n",
    "m.q = Var(domain=Reals)\n",
    "m.constraint4 = Constraint(rule=lambda model: model.q - log(model.c) == 0)\n",
    "m.constraint1 = Constraint(rule=lambda model: model.c + model.b <= 11)\n",
    "m.constraint3 = Constraint(rule=lambda model: 3 <= model.c <= 5)\n",
    "m.constrain2 = Constraint(rule=lambda model: 1 <= model.d <= 5)\n",
    "m.OBJ = Objective(rule=lambda model: (model.bin * model.q) , sense=maximize)\n",
    "solver = pyomo.opt.SolverFactory('bonmin', executable='/Users/ashton/school/cmsc828m/project/code/Bonmin-1.8.6.backup/bin/bonmin')\n",
    "solver.solve(m, tee=True, keepfiles=True)"
   ]
  },
  {
   "cell_type": "code",
   "execution_count": 3,
   "metadata": {
    "collapsed": false
   },
   "outputs": [
    {
     "data": {
      "text/plain": [
       "(1.0, 5.00000004995, 1.6094379224241002)"
      ]
     },
     "execution_count": 3,
     "metadata": {},
     "output_type": "execute_result"
    }
   ],
   "source": [
    "m.bin.value, m.c.value, m.q.value"
   ]
  },
  {
   "cell_type": "markdown",
   "metadata": {},
   "source": [
    "# Real formulation"
   ]
  },
  {
   "cell_type": "code",
   "execution_count": 110,
   "metadata": {
    "collapsed": true
   },
   "outputs": [],
   "source": [
    "import pickle"
   ]
  },
  {
   "cell_type": "code",
   "execution_count": 111,
   "metadata": {
    "collapsed": false
   },
   "outputs": [],
   "source": [
    "rewards = pickle.load(open('/Users/ashton/school/cmsc828m/project/data/attacker_actions/20180429-rewards.pickle', 'rb'))\n",
    "# add null option\n",
    "for i in range(len(rewards)):\n",
    "    for j in range(len(rewards[i])):\n",
    "        rewards[i][j].append({'bs': 0, 'cve_id': 'NULL', 'es': 0, 'is': 0})\n",
    "        \n"
   ]
  },
  {
   "cell_type": "code",
   "execution_count": 4,
   "metadata": {
    "collapsed": true
   },
   "outputs": [],
   "source": [
    "#OPTION 1\n",
    "modified_rewards = []\n",
    "for i in range(len(rewards)):\n",
    "    for j in range(len(rewards[i])):\n",
    "        for k in range(len(rewards[i][j])):\n",
    "            modified_rewards.append((i,j,k))\n",
    "NUM_ATTACKERS = 3\n",
    "NUM_SERVICES = 4\n",
    "M = 99999\n",
    "LOSS_AVERSION_FACTOR = 0.1\n",
    "ATTACKER_LOSS_FACTOR = 0.3\n",
    "x = [0.1, 0.1, 0.1, 0.1]"
   ]
  },
  {
   "cell_type": "code",
   "execution_count": 5,
   "metadata": {
    "collapsed": false
   },
   "outputs": [],
   "source": [
    "#OPTION 2\n",
    "modified_rewards = []\n",
    "for i in range(2):\n",
    "    for j in range(len(rewards[i])):\n",
    "        for k in range(len(rewards[i][j])):\n",
    "            modified_rewards.append((i,j,k))\n",
    "NUM_ATTACKERS = 3\n",
    "NUM_SERVICES = 2\n",
    "M = 99999\n",
    "LOSS_AVERSION_FACTOR = 0.1\n",
    "ATTACKER_LOSS_FACTOR = 0.3\n",
    "x = [0.1, 0.1, 0, 0]"
   ]
  },
  {
   "cell_type": "code",
   "execution_count": 103,
   "metadata": {
    "collapsed": true
   },
   "outputs": [],
   "source": [
    "#OPTION 3\n",
    "modified_rewards = []\n",
    "for i in range(len(rewards)):\n",
    "    for j in range(len(rewards[i])):\n",
    "        for k in range(len(rewards[i][j])):\n",
    "            modified_rewards.append((i,j,k))\n",
    "NUM_ATTACKERS = 3\n",
    "NUM_SERVICES = len(rewards)\n",
    "M = 99999\n",
    "LOSS_AVERSION_FACTOR = 0.1\n",
    "ATTACKER_LOSS_FACTOR = 0.3\n",
    "x = [0.5 / 16] * 16"
   ]
  },
  {
   "cell_type": "code",
   "execution_count": 140,
   "metadata": {
    "collapsed": true
   },
   "outputs": [],
   "source": [
    "class Experiment:\n",
    "    \n",
    "    def __init__(self, attacker_prob, service_prob, rewards, pickle_path=None):\n",
    "        self.attacker_prob = attacker_prob\n",
    "        # changing x to self.c\n",
    "        self.c = service_prob\n",
    "        self.rewards = rewards\n",
    "        self.pickle_path = pickle_path\n",
    "        \n",
    "        self.modified_rewards = []\n",
    "        for i in range(len(rewards)):\n",
    "            for j in range(len(rewards[i])):\n",
    "                for k in range(len(rewards[i][j])):\n",
    "                    self.modified_rewards.append((i,j,k))\n",
    "                    \n",
    "        self.m = ConcreteModel()\n",
    "    \n",
    "    def init_vars(self):\n",
    "        self.m.attackers = Set(initialize=list(range(len(self.attacker_prob))))\n",
    "        self.m.service_set = Set(initialize=list(range(len(self.c))))\n",
    "        self.m.attacks = Set(initialize=self.modified_rewards, dimen=3)\n",
    "        \n",
    "        self.m.h = Var(self.m.service_set, domain=PositiveReals)\n",
    "        self.m.n = Var(self.m.attacks, domain=Binary)\n",
    "        self.m.v = Var(self.m.attackers, domain=Reals)\n",
    "        self.m.q = Var(self.m.service_set, domain=PositiveReals)\n",
    "    \n",
    "    def set_obj(self):\n",
    "        \n",
    "        def obj_rule(model):\n",
    "    #     return sum(attacker_prob[theta] * m.n[(s, theta, a)] * exp(m.q[s]) * (m.x_prime[s] * rewards[s][theta][a]['is']) \\\n",
    "    #                for s, theta, a in m.attacks)\n",
    "            return sum(self.attacker_prob[theta] * model.n[(s, theta, a)] * exp(model.q[s]) * \\\n",
    "                   (self.c[s] * -1 * self.rewards[s][theta][a]['is'] + \\\n",
    "                    LOSS_AVERSION_FACTOR * model.h[s] * self.rewards[s][theta][a]['is']) \\\n",
    "                   for s, theta, a in model.attacks)\n",
    "    \n",
    "        self.m.OBJ = Objective(rule=obj_rule, sense=maximize)\n",
    "    \n",
    "    def set_constraints(self):\n",
    "        def h_positive(model, s):\n",
    "            return model.h[s] >= 0\n",
    "        self.m.h_pos_constr = Constraint(self.m.service_set, rule=h_positive)\n",
    "\n",
    "        def x_sum(model):\n",
    "            return sum(model.h[s] + self.c[s] for s in model.service_set) == 1\n",
    "        self.m.x_sum = Constraint(rule=x_sum)\n",
    "\n",
    "        def best_attacker_u1(model, s, theta, a):\n",
    "            #s, theta, a = attack\n",
    "            return model.v[theta] - exp(model.q[s]) * (self.rewards[s][theta][a]['bs'] * self.c[s] + \\\n",
    "                                          -1 * ATTACKER_LOSS_FACTOR * self.rewards[s][theta][a]['es']  * model.h[s]) \\\n",
    "                                        >= 0.001\n",
    "        #     return m.v[theta] - exp(m.q[s]) * (rewards[s][theta][a]['bs'] * x[s]) \\\n",
    "        #             >= -0.001\n",
    "        self.m.best_attacker_constr1 = Constraint(self.m.attacks, rule=best_attacker_u1)\n",
    "        \n",
    "        def best_attacker_u2(model, s, theta, a):\n",
    "        #s, theta, a = attack\n",
    "            return model.v[theta] - exp(model.q[s]) * (self.rewards[s][theta][a]['bs'] * self.c[s] \\\n",
    "                                          + -1 * ATTACKER_LOSS_FACTOR * self.rewards[s][theta][a]['es']  * model.h[s]) \\\n",
    "                    <= (1 - model.n[(s, theta, a)]) * M + 0.001\n",
    "        #     return m.v[theta] - exp(m.q[s]) * (rewards[s][theta][a]['bs'] * x[s]) \\\n",
    "        #             <= (1 - m.n[(s, theta, a)]) * M + .001\n",
    "        self.m.best_attacker_constr2 = Constraint(self.m.attacks, rule=best_attacker_u2)           \n",
    "\n",
    "        def only_one_action(model, attacker):\n",
    "            return sum(model.n[(s, theta, a)] for s, theta, a in model.attacks if theta == attacker) == 1\n",
    "\n",
    "        self.m.only_one_action_constr = Constraint(self.m.attackers, rule=only_one_action)\n",
    "\n",
    "        def q_rule(model, s):\n",
    "            return model.q[s] == -1 * log(self.c[s] + model.h[s])\n",
    "        self.m.q_constr = Constraint(self.m.service_set, rule=q_rule)\n",
    "        \n",
    "    # used to simulate difference between believed attacker probabilities and \"real\" attacker probabilities\n",
    "    def real_attacker_obj(self, model, real_attacker_probs):\n",
    "        return sum(real_attacker_probs[theta] * model.n[(s, theta, a)].value * exp(model.q[s].value) * \\\n",
    "               (self.c[s] * -1 * self.rewards[s][theta][a]['is'] + \\\n",
    "                LOSS_AVERSION_FACTOR * model.h[s].value * self.rewards[s][theta][a]['is']) \\\n",
    "               for s, theta, a in model.attacks)\n",
    "    \n",
    "    \n",
    "    \n",
    "    def solve(self, tee_p=False):\n",
    "        self.solver = pyomo.opt.SolverFactory('bonmin', executable='/Users/ashton/school/cmsc828m/project/code/Bonmin-1.8.6.backup/bin/bonmin')\n",
    "        start_time = time.time()\n",
    "        self.solver.solve(self.m, tee=tee_p)\n",
    "        end_time = time.time()\n",
    "        self.duration = end_time - start_time\n",
    "       \n",
    "\n",
    "    \n",
    "    # gets the csv log itself\n",
    "    def get_log(self):\n",
    "        return \",\".join([\n",
    "            str(len(self.c)),\n",
    "            str(self.c),\n",
    "            str(self.m.h),\n",
    "            str(self.duration),\n",
    "            self.pickle_path\n",
    "        ])\n",
    "    \n",
    "    def print_results(self):\n",
    "        print(\"Attacks\")\n",
    "        print(\"(service, attacker, attack), was_selected, CVE Info\")\n",
    "        for n_i in self.m.n:\n",
    "            if self.m.n[n_i].value > 0:\n",
    "                s, theta, a = n_i\n",
    "                print (n_i, self.m.n[n_i].value, self.rewards[s][theta][a])\n",
    "                \n",
    "        print()\n",
    "        print(\"Obj: \", self.m.OBJ())\n",
    "        \n",
    "        print()\n",
    "        print(\"Service Honeypot Distribution:\")\n",
    "        for s in self.m.service_set:\n",
    "            print((s, self.m.h[s].value))\n",
    "        \n",
    "# gets the header for the csv log\n",
    "def get_log_header():\n",
    "    return \",\".join([\n",
    "        \"num_services\",\n",
    "        \"c\",\n",
    "        \"x\",\n",
    "        \"duration\",\n",
    "        \"experiment_pickle_path\"\n",
    "    ]) + \"\\n\""
   ]
  },
  {
   "cell_type": "code",
   "execution_count": 99,
   "metadata": {
    "collapsed": false
   },
   "outputs": [],
   "source": [
    "# removing attacks which are strictly dominated \n",
    "new_rewards = []\n",
    "for s in range(len(rewards)):\n",
    "    new_rewards.append([])\n",
    "    for theta in range(len(rewards[s])):\n",
    "        new_rewards[s].append([])\n",
    "        already_added = []\n",
    "        for a_1 in rewards[s][theta]:\n",
    "            if not any(a_2['bs'] >= a_1['bs'] and a_2['es'] < a_1['es'] for a_2 in rewards[s][theta]) and \\\n",
    "                    not (a_1['bs'], a_1['es']) in already_added:\n",
    "                new_rewards[s][theta].append(a_1)\n",
    "                already_added.append((a_1['bs'], a_1['es']))"
   ]
  },
  {
   "cell_type": "code",
   "execution_count": 107,
   "metadata": {
    "collapsed": false
   },
   "outputs": [],
   "source": [
    "e = Experiment(attacker_prob=[0.5, 0.4, 0.1], service_prob=x, rewards=rewards)\n",
    "e.init_vars()\n",
    "e.set_obj()\n",
    "e.set_constraints()\n",
    "e.solve()\n"
   ]
  },
  {
   "cell_type": "code",
   "execution_count": 48,
   "metadata": {
    "collapsed": false
   },
   "outputs": [],
   "source": [
    "rewards = rewards[:2]\n",
    "e = Experiment(attacker_prob=[0.5, 0.4, 0.1], service_prob=[0.1, 0.2], rewards=rewards)\n",
    "e.init_vars()\n",
    "e.set_obj()\n",
    "e.set_constraints()\n",
    "e.solve()"
   ]
  },
  {
   "cell_type": "code",
   "execution_count": 108,
   "metadata": {
    "collapsed": false
   },
   "outputs": [
    {
     "data": {
      "text/plain": [
       "-2.6948705633642187"
      ]
     },
     "execution_count": 108,
     "metadata": {},
     "output_type": "execute_result"
    }
   ],
   "source": [
    "e.m.OBJ()"
   ]
  },
  {
   "cell_type": "code",
   "execution_count": 50,
   "metadata": {
    "collapsed": false
   },
   "outputs": [
    {
     "data": {
      "text/plain": [
       "-0.3422945896273375"
      ]
     },
     "execution_count": 50,
     "metadata": {},
     "output_type": "execute_result"
    }
   ],
   "source": [
    "e.real_attacker_obj(e.m, [0.99, 0, .01])"
   ]
  },
  {
   "cell_type": "code",
   "execution_count": 109,
   "metadata": {
    "collapsed": false,
    "scrolled": true
   },
   "outputs": [
    {
     "name": "stdout",
     "output_type": "stream",
     "text": [
      "Attacks\n",
      "(service, attacker, attack), was_selected, CVE Info\n",
      "((6, 0, 0), 1.0, {'is': 2.9, 'es': 4.9, 'cve_id': u'CVE-2015-3455', 'bs': 2.6})\n",
      "((7, 1, 1), 1.0, {'is': 2.9, 'es': 8.0, 'cve_id': u'CVE-2014-0229', 'bs': 4.0})\n",
      "((6, 2, 3), 1.0, {'is': 6.9, 'es': 10.0, 'cve_id': u'CVE-2013-1839', 'bs': 7.8})\n",
      "()\n",
      "('Obj: ', -2.6948705633642187)\n",
      "()\n",
      "Service Honeypot Distribution:\n",
      "(0, 0.04379732253746351)\n",
      "(1, 0.04813397296842657)\n",
      "(2, 0.04382969909476854)\n",
      "(3, 0.027339576367764788)\n",
      "(4, 0.04382969909476854)\n",
      "(5, 0.027339576371402392)\n",
      "(6, 0.004139796508672447)\n",
      "(7, 0.010890707519950228)\n",
      "(8, 0.02931450590812864)\n",
      "(9, 0.026021421321729864)\n",
      "(10, 0.027339576367764806)\n",
      "(11, 0.047448767741180925)\n",
      "(12, 0.04379732253746347)\n",
      "(13, 0.0475942666603483)\n",
      "(14, 0.01134436275406703)\n",
      "(15, 0.01783942624610001)\n"
     ]
    }
   ],
   "source": [
    "e.print_results()"
   ]
  },
  {
   "cell_type": "code",
   "execution_count": 142,
   "metadata": {
    "collapsed": false
   },
   "outputs": [],
   "source": [
    "# experiment running\n",
    "def run_experiments(experiments, experiments_dir):\n",
    "    # create dir\n",
    "    new_dir_name = time.strftime(\"%Y-%m-%d_%H-%M-%S\", time.gmtime(time.time()))\n",
    "    os.mkdir(experiments_dir + new_dir_name)\n",
    "    new_dir_path = os.path.join(experiments_dir, new_dir_name)\n",
    "    \n",
    "    # create file\n",
    "    with open(os.path.join(new_dir_path, \"results.csv\"), 'w') as f:\n",
    "        # write header\n",
    "        f.write(get_log_header())\n",
    "        for i, e in enumerate(experiments):\n",
    "            # run experiment\n",
    "            e.init_vars()\n",
    "            e.set_obj()\n",
    "            e.set_constraints()\n",
    "            e.solve()\n",
    "            # write pickle\n",
    "            e.pickle_path = os.path.join(new_dir_path, str(i) + \".pickle\")\n",
    "            pickle.dump(e, open(e.pickle_path, 'w'))\n",
    "            # write line to file\n",
    "            f.write(e.get_log() + '\\n')\n",
    "\n",
    "experiments = [Experiment(attacker_prob=[0.5, 0.4, 0.1], service_prob=[0.1], rewards=[rewards[0]]),\n",
    "              Experiment(attacker_prob=[0.5, 0.4, 0.1], service_prob=[0.3], rewards=[rewards[0]])]\n",
    "run_experiments(experiments, \"/tmp/\")"
   ]
  },
  {
   "cell_type": "code",
   "execution_count": 118,
   "metadata": {
    "collapsed": false
   },
   "outputs": [
    {
     "data": {
      "text/plain": [
       "'2018-04-30_01-58-19'"
      ]
     },
     "execution_count": 118,
     "metadata": {},
     "output_type": "execute_result"
    }
   ],
   "source": [
    "time.strftime(\"%Y-%m-%d_%H-%M-%S\", time.gmtime(time.time()))"
   ]
  },
  {
   "cell_type": "code",
   "execution_count": null,
   "metadata": {
    "collapsed": true
   },
   "outputs": [],
   "source": []
  }
 ],
 "metadata": {
  "kernelspec": {
   "display_name": "Python 2",
   "language": "python",
   "name": "python2"
  },
  "language_info": {
   "codemirror_mode": {
    "name": "ipython",
    "version": 2
   },
   "file_extension": ".py",
   "mimetype": "text/x-python",
   "name": "python",
   "nbconvert_exporter": "python",
   "pygments_lexer": "ipython2",
   "version": "2.7.13"
  }
 },
 "nbformat": 4,
 "nbformat_minor": 2
}
