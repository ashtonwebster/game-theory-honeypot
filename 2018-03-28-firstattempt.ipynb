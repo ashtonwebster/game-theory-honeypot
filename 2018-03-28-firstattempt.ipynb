{
 "cells": [
  {
   "cell_type": "markdown",
   "metadata": {},
   "source": [
    "This was just a first attempt at getting something working which sort of looked like what we wanted\n",
    "to simulate for honeypot allocation.  The numbers are all arbitrarily selected and it is as simple as possible."
   ]
  },
  {
   "cell_type": "code",
   "execution_count": 1,
   "metadata": {
    "collapsed": false
   },
   "outputs": [],
   "source": [
    "from gurobipy import *"
   ]
  },
  {
   "cell_type": "code",
   "execution_count": 20,
   "metadata": {
    "collapsed": false
   },
   "outputs": [
    {
     "name": "stdout",
     "output_type": "stream",
     "text": [
      "Optimize a model with 11 rows, 14 columns and 38 nonzeros\n",
      "Model has 7 quadratic objective terms\n",
      "Variable types: 4 continuous, 10 integer (10 binary)\n",
      "Coefficient statistics:\n",
      "  Matrix range     [1e+00, 1e+05]\n",
      "  Objective range  [1e-01, 5e-01]\n",
      "  QObjective range [1e+00, 5e+00]\n",
      "  Bounds range     [1e+00, 1e+00]\n",
      "  RHS range        [2e-01, 1e+05]\n",
      "Presolve removed 4 rows and 5 columns\n",
      "Presolve time: 0.01s\n",
      "Presolved: 17 rows, 14 columns, 37 nonzeros\n",
      "Variable types: 9 continuous, 5 integer (5 binary)\n",
      "\n",
      "Root relaxation: objective 1.400000e+00, 6 iterations, 0.00 seconds\n",
      "\n",
      "    Nodes    |    Current Node    |     Objective Bounds      |     Work\n",
      " Expl Unexpl |  Obj  Depth IntInf | Incumbent    BestBd   Gap | It/Node Time\n",
      "\n",
      "*    0     0               0       1.4000000    1.40000  0.00%     -    0s\n",
      "\n",
      "Explored 0 nodes (6 simplex iterations) in 0.05 seconds\n",
      "Thread count was 4 (of 4 available processors)\n",
      "\n",
      "Solution count 1: 1.4 \n",
      "\n",
      "Optimal solution found (tolerance 1.00e-04)\n",
      "Best objective 1.400000000000e+00, best bound 1.400000000000e+00, gap 0.0000%\n"
     ]
    }
   ],
   "source": [
    "# two services, two attackers,\n",
    "NUM_ATTACKERS = 2\n",
    "NUM_NODES = 10\n",
    "NUM_SERVICES = 2\n",
    "M = 99999\n",
    "# reward[s][theta][a] is reward when service s is used for attacker theta action a\n",
    "# first attacker has 2 actions for service 0 and 3 for service 1\n",
    "defender_legit_rewards = [\n",
    "    [\n",
    "        [0, -5],\n",
    "        [-1, -2, -3]\n",
    "    ],\n",
    "    [\n",
    "        [-1, -4, -7],\n",
    "        [-5, -2]\n",
    "    ]\n",
    "]\n",
    "# defender rewards for actions on honeypots are negative of legit rewards for defenders\n",
    "# attacker rewards for actions on legit servers are negative of legit rewards for defenders\n",
    "# attacker rewards for actions on honeypots are the same as legit rewards for defenders\n",
    "\n",
    "attacker_prob = [0.5, 0.5]\n",
    "\n",
    "#required services (must have 2 of service 0 and 3 of service 1)\n",
    "x = [0.2, 0.2]\n",
    "\n",
    "m = Model('test2')\n",
    "\n",
    "x_prime = []\n",
    "# mixed strategy over 2 legit service options\n",
    "# must have at least 2 of the first one and 3 of the second\n",
    "x_prime.append(m.addVar(lb=0, vtype=GRB.CONTINUOUS, name='x0'))\n",
    "x_prime.append(m.addVar(lb=0, vtype=GRB.CONTINUOUS, name='x1'))\n",
    "\n",
    "# n: attacker pure strategy\n",
    "# n[theta][s][a] is whether attack a for service s for attacker theta is selected\n",
    "# attackers only choose one attack\n",
    "n = [] \n",
    "for theta in range(NUM_ATTACKERS):\n",
    "    n_t = []\n",
    "    for s in range(NUM_SERVICES):\n",
    "        n_s = []\n",
    "        for a in range(len(defender_legit_rewards[s][theta])):\n",
    "            n_s.append(m.addVar(vtype=GRB.BINARY, name='n_{0}_{1}_{2}'.format(theta, s ,a)))\n",
    "        n_t.append(n_s)\n",
    "    n.append(n_t)\n",
    "    \n",
    "v = []\n",
    "for v_i in range(NUM_ATTACKERS):\n",
    "    v.append(m.addVar(vtype=GRB.CONTINUOUS, name='v_{0}'.format(v_i)))\n",
    "\n",
    "m.setObjective(sum(attacker_prob[theta] * n[theta][s][a] * (x[s] * defender_legit_rewards[s][theta][a] + \\\n",
    "                                                            x_prime[s] * -1 * defender_legit_rewards[s][theta][a]) \\\n",
    "                    for a in range(len(defender_legit_rewards[s][theta])) \\\n",
    "                   for theta in [0,1] \\\n",
    "                   for s in [0,1]), GRB.MAXIMIZE)\n",
    "\n",
    "# how to rewrite constraint that requires the attacker to choose the best action available given the \n",
    "# defender's best action\n",
    "\n",
    "# I think we can restrict n to binary (instead of number of attacks) because attacking multiple times will just\n",
    "# give a linear increase in the reward.  Also, I think the attacker can always just choose a single attack instead\n",
    "# of multiple as there is going to always be a dominant single attack that will net the most points and the attacker\n",
    "# will only pick multiple attacks if they have the same max value\n",
    "\n",
    "\n",
    "m.addConstr(sum(x_prime[s] + x[s] for s in range(NUM_SERVICES)) == 1, 'defender_strat')\n",
    "m.addConstrs((sum(sum(n[theta][s]) for s in range(NUM_SERVICES)) == 1 for theta in range(NUM_ATTACKERS)),\n",
    "               'attacker_strat')\n",
    "m.addConstrs((0 <= v[theta] - sum(-1 * defender_legit_rewards[s][theta][a] * x[s] +\n",
    "                                  defender_legit_rewards[s][theta][a] * x_prime[s] for s in range(NUM_SERVICES)) \\\n",
    "             for a in range(len(defender_legit_rewards[s][theta])) \\\n",
    "             for theta in range(NUM_ATTACKERS)),\n",
    "             'attacker_best_strat_1')\n",
    "m.addConstrs((v[theta] - sum(-1 * defender_legit_rewards[s][theta][a] * x[s] + \n",
    "                             defender_legit_rewards[s][theta][a] * x_prime[s] for s in range(NUM_SERVICES)) \\\n",
    "             <= (1 - n[theta][s][a]) * M\n",
    "             for a in range(len(defender_legit_rewards[s][theta])) \\\n",
    "             for theta in range(NUM_ATTACKERS)),\n",
    "             'attacker_best_strat_2')\n",
    "\n",
    "m.optimize()\n",
    "\n"
   ]
  },
  {
   "cell_type": "code",
   "execution_count": 22,
   "metadata": {
    "collapsed": false
   },
   "outputs": [
    {
     "name": "stdout",
     "output_type": "stream",
     "text": [
      "('x0', 0.6000000000000001)\n",
      "('x1', 0.0)\n",
      "('n_0_0_0', 0.0)\n",
      "('n_0_0_1', 1.0)\n",
      "('n_0_1_0', 0.0)\n",
      "('n_0_1_1', 0.0)\n",
      "('n_0_1_2', 0.0)\n",
      "('n_1_0_0', 0.0)\n",
      "('n_1_0_1', 1.0)\n",
      "('n_1_0_2', 0.0)\n",
      "('n_1_1_0', 0.0)\n",
      "('n_1_1_1', 0.0)\n",
      "('v_0', 0.2)\n",
      "('v_1', 0.6)\n",
      "('Obj:', 1.4000000000000004)\n"
     ]
    }
   ],
   "source": [
    "for var in m.getVars():\n",
    "    print(var.varName, var.x)\n",
    "print('Obj:', m.objVal)"
   ]
  },
  {
   "cell_type": "code",
   "execution_count": null,
   "metadata": {
    "collapsed": true
   },
   "outputs": [],
   "source": []
  }
 ],
 "metadata": {
  "kernelspec": {
   "display_name": "Python 2",
   "language": "python",
   "name": "python2"
  },
  "language_info": {
   "codemirror_mode": {
    "name": "ipython",
    "version": 2
   },
   "file_extension": ".py",
   "mimetype": "text/x-python",
   "name": "python",
   "nbconvert_exporter": "python",
   "pygments_lexer": "ipython2",
   "version": "2.7.13"
  }
 },
 "nbformat": 4,
 "nbformat_minor": 2
}
