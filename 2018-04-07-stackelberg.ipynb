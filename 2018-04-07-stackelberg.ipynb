{
 "cells": [
  {
   "cell_type": "code",
   "execution_count": 1,
   "metadata": {
    "collapsed": false
   },
   "outputs": [],
   "source": [
    "from gurobipy import *\n",
    "import pickle"
   ]
  },
  {
   "cell_type": "code",
   "execution_count": 53,
   "metadata": {
    "collapsed": true
   },
   "outputs": [],
   "source": [
    "rewards = pickle.load(open('/Users/ashton/school/cmsc828m/project/data/attacker_actions/20180411-rewards.pickle', 'rb'))"
   ]
  },
  {
   "cell_type": "code",
   "execution_count": 54,
   "metadata": {
    "collapsed": false
   },
   "outputs": [
    {
     "data": {
      "text/plain": [
       "{'bs': 2.1, 'cve_id': u'CVE-2016-6494', 'es': 3.9, 'is': 2.9}"
      ]
     },
     "execution_count": 54,
     "metadata": {},
     "output_type": "execute_result"
    }
   ],
   "source": [
    "rewards[0][0][0]"
   ]
  },
  {
   "cell_type": "code",
   "execution_count": 152,
   "metadata": {
    "collapsed": false
   },
   "outputs": [
    {
     "ename": "GurobiError",
     "evalue": "Divisor must be a constant",
     "output_type": "error",
     "traceback": [
      "\u001b[0;31m---------------------------------------------------------------------------\u001b[0m",
      "\u001b[0;31mGurobiError\u001b[0m                               Traceback (most recent call last)",
      "\u001b[0;32m<ipython-input-152-d0b70dea15bf>\u001b[0m in \u001b[0;36m<module>\u001b[0;34m()\u001b[0m\n\u001b[1;32m     41\u001b[0m     \u001b[0mv\u001b[0m\u001b[0;34m.\u001b[0m\u001b[0mappend\u001b[0m\u001b[0;34m(\u001b[0m\u001b[0mm\u001b[0m\u001b[0;34m.\u001b[0m\u001b[0maddVar\u001b[0m\u001b[0;34m(\u001b[0m\u001b[0mvtype\u001b[0m\u001b[0;34m=\u001b[0m\u001b[0mGRB\u001b[0m\u001b[0;34m.\u001b[0m\u001b[0mCONTINUOUS\u001b[0m\u001b[0;34m,\u001b[0m \u001b[0mname\u001b[0m\u001b[0;34m=\u001b[0m\u001b[0;34m'v_{0}'\u001b[0m\u001b[0;34m.\u001b[0m\u001b[0mformat\u001b[0m\u001b[0;34m(\u001b[0m\u001b[0mv_i\u001b[0m\u001b[0;34m)\u001b[0m\u001b[0;34m)\u001b[0m\u001b[0;34m)\u001b[0m\u001b[0;34m\u001b[0m\u001b[0m\n\u001b[1;32m     42\u001b[0m \u001b[0;34m\u001b[0m\u001b[0m\n\u001b[0;32m---> 43\u001b[0;31m \u001b[0mm\u001b[0m\u001b[0;34m.\u001b[0m\u001b[0msetObjective\u001b[0m\u001b[0;34m(\u001b[0m\u001b[0msum\u001b[0m\u001b[0;34m(\u001b[0m\u001b[0mattacker_prob\u001b[0m\u001b[0;34m[\u001b[0m\u001b[0mtheta\u001b[0m\u001b[0;34m]\u001b[0m \u001b[0;34m*\u001b[0m \u001b[0mn\u001b[0m\u001b[0;34m[\u001b[0m\u001b[0mtheta\u001b[0m\u001b[0;34m]\u001b[0m\u001b[0;34m[\u001b[0m\u001b[0ms\u001b[0m\u001b[0;34m]\u001b[0m\u001b[0;34m[\u001b[0m\u001b[0ma\u001b[0m\u001b[0;34m]\u001b[0m \u001b[0;34m*\u001b[0m \u001b[0;34m(\u001b[0m\u001b[0;34m(\u001b[0m\u001b[0mx\u001b[0m\u001b[0;34m[\u001b[0m\u001b[0ms\u001b[0m\u001b[0;34m]\u001b[0m \u001b[0;34m/\u001b[0m \u001b[0;34m(\u001b[0m\u001b[0mx\u001b[0m\u001b[0;34m[\u001b[0m\u001b[0ms\u001b[0m\u001b[0;34m]\u001b[0m \u001b[0;34m+\u001b[0m \u001b[0mx_prime\u001b[0m\u001b[0;34m[\u001b[0m\u001b[0ms\u001b[0m\u001b[0;34m]\u001b[0m\u001b[0;34m)\u001b[0m\u001b[0;34m)\u001b[0m \u001b[0;34m*\u001b[0m \u001b[0;34m-\u001b[0m\u001b[0;36m1\u001b[0m \u001b[0;34m*\u001b[0m \u001b[0mrewards\u001b[0m\u001b[0;34m[\u001b[0m\u001b[0ms\u001b[0m\u001b[0;34m]\u001b[0m\u001b[0;34m[\u001b[0m\u001b[0mtheta\u001b[0m\u001b[0;34m]\u001b[0m\u001b[0;34m[\u001b[0m\u001b[0ma\u001b[0m\u001b[0;34m]\u001b[0m\u001b[0;34m[\u001b[0m\u001b[0;34m'is'\u001b[0m\u001b[0;34m]\u001b[0m \u001b[0;34m+\u001b[0m                             \u001b[0mLOSS_AVERSION_FACTOR\u001b[0m \u001b[0;34m*\u001b[0m \u001b[0;34m(\u001b[0m\u001b[0mx_prime\u001b[0m\u001b[0;34m[\u001b[0m\u001b[0ms\u001b[0m\u001b[0;34m]\u001b[0m \u001b[0;34m/\u001b[0m \u001b[0;34m(\u001b[0m\u001b[0mx\u001b[0m\u001b[0;34m[\u001b[0m\u001b[0ms\u001b[0m\u001b[0;34m]\u001b[0m \u001b[0;34m+\u001b[0m \u001b[0mx_prime\u001b[0m\u001b[0;34m[\u001b[0m\u001b[0ms\u001b[0m\u001b[0;34m]\u001b[0m\u001b[0;34m)\u001b[0m\u001b[0;34m)\u001b[0m \u001b[0;34m*\u001b[0m \u001b[0mrewards\u001b[0m\u001b[0;34m[\u001b[0m\u001b[0ms\u001b[0m\u001b[0;34m]\u001b[0m\u001b[0;34m[\u001b[0m\u001b[0mtheta\u001b[0m\u001b[0;34m]\u001b[0m\u001b[0;34m[\u001b[0m\u001b[0ma\u001b[0m\u001b[0;34m]\u001b[0m\u001b[0;34m[\u001b[0m\u001b[0;34m'is'\u001b[0m\u001b[0;34m]\u001b[0m\u001b[0;34m)\u001b[0m                     \u001b[0;32mfor\u001b[0m \u001b[0ms\u001b[0m \u001b[0;32min\u001b[0m \u001b[0mrange\u001b[0m\u001b[0;34m(\u001b[0m\u001b[0mNUM_SERVICES\u001b[0m\u001b[0;34m)\u001b[0m                    \u001b[0;32mfor\u001b[0m \u001b[0mtheta\u001b[0m \u001b[0;32min\u001b[0m \u001b[0mrange\u001b[0m\u001b[0;34m(\u001b[0m\u001b[0mNUM_ATTACKERS\u001b[0m\u001b[0;34m)\u001b[0m                    \u001b[0;32mfor\u001b[0m \u001b[0ma\u001b[0m \u001b[0;32min\u001b[0m \u001b[0mrange\u001b[0m\u001b[0;34m(\u001b[0m\u001b[0mlen\u001b[0m\u001b[0;34m(\u001b[0m\u001b[0mrewards\u001b[0m\u001b[0;34m[\u001b[0m\u001b[0ms\u001b[0m\u001b[0;34m]\u001b[0m\u001b[0;34m[\u001b[0m\u001b[0mtheta\u001b[0m\u001b[0;34m]\u001b[0m\u001b[0;34m)\u001b[0m\u001b[0;34m)\u001b[0m\u001b[0;34m)\u001b[0m\u001b[0;34m,\u001b[0m \u001b[0mGRB\u001b[0m\u001b[0;34m.\u001b[0m\u001b[0mMAXIMIZE\u001b[0m\u001b[0;34m)\u001b[0m\u001b[0;34m\u001b[0m\u001b[0m\n\u001b[0m\u001b[1;32m     44\u001b[0m \u001b[0;34m\u001b[0m\u001b[0m\n\u001b[1;32m     45\u001b[0m \u001b[0;31m#o = 0\u001b[0m\u001b[0;34m\u001b[0m\u001b[0;34m\u001b[0m\u001b[0m\n",
      "\u001b[0;32m<ipython-input-152-d0b70dea15bf>\u001b[0m in \u001b[0;36m<genexpr>\u001b[0;34m((s,))\u001b[0m\n\u001b[1;32m     41\u001b[0m     \u001b[0mv\u001b[0m\u001b[0;34m.\u001b[0m\u001b[0mappend\u001b[0m\u001b[0;34m(\u001b[0m\u001b[0mm\u001b[0m\u001b[0;34m.\u001b[0m\u001b[0maddVar\u001b[0m\u001b[0;34m(\u001b[0m\u001b[0mvtype\u001b[0m\u001b[0;34m=\u001b[0m\u001b[0mGRB\u001b[0m\u001b[0;34m.\u001b[0m\u001b[0mCONTINUOUS\u001b[0m\u001b[0;34m,\u001b[0m \u001b[0mname\u001b[0m\u001b[0;34m=\u001b[0m\u001b[0;34m'v_{0}'\u001b[0m\u001b[0;34m.\u001b[0m\u001b[0mformat\u001b[0m\u001b[0;34m(\u001b[0m\u001b[0mv_i\u001b[0m\u001b[0;34m)\u001b[0m\u001b[0;34m)\u001b[0m\u001b[0;34m)\u001b[0m\u001b[0;34m\u001b[0m\u001b[0m\n\u001b[1;32m     42\u001b[0m \u001b[0;34m\u001b[0m\u001b[0m\n\u001b[0;32m---> 43\u001b[0;31m \u001b[0mm\u001b[0m\u001b[0;34m.\u001b[0m\u001b[0msetObjective\u001b[0m\u001b[0;34m(\u001b[0m\u001b[0msum\u001b[0m\u001b[0;34m(\u001b[0m\u001b[0mattacker_prob\u001b[0m\u001b[0;34m[\u001b[0m\u001b[0mtheta\u001b[0m\u001b[0;34m]\u001b[0m \u001b[0;34m*\u001b[0m \u001b[0mn\u001b[0m\u001b[0;34m[\u001b[0m\u001b[0mtheta\u001b[0m\u001b[0;34m]\u001b[0m\u001b[0;34m[\u001b[0m\u001b[0ms\u001b[0m\u001b[0;34m]\u001b[0m\u001b[0;34m[\u001b[0m\u001b[0ma\u001b[0m\u001b[0;34m]\u001b[0m \u001b[0;34m*\u001b[0m \u001b[0;34m(\u001b[0m\u001b[0;34m(\u001b[0m\u001b[0mx\u001b[0m\u001b[0;34m[\u001b[0m\u001b[0ms\u001b[0m\u001b[0;34m]\u001b[0m \u001b[0;34m/\u001b[0m \u001b[0;34m(\u001b[0m\u001b[0mx\u001b[0m\u001b[0;34m[\u001b[0m\u001b[0ms\u001b[0m\u001b[0;34m]\u001b[0m \u001b[0;34m+\u001b[0m \u001b[0mx_prime\u001b[0m\u001b[0;34m[\u001b[0m\u001b[0ms\u001b[0m\u001b[0;34m]\u001b[0m\u001b[0;34m)\u001b[0m\u001b[0;34m)\u001b[0m \u001b[0;34m*\u001b[0m \u001b[0;34m-\u001b[0m\u001b[0;36m1\u001b[0m \u001b[0;34m*\u001b[0m \u001b[0mrewards\u001b[0m\u001b[0;34m[\u001b[0m\u001b[0ms\u001b[0m\u001b[0;34m]\u001b[0m\u001b[0;34m[\u001b[0m\u001b[0mtheta\u001b[0m\u001b[0;34m]\u001b[0m\u001b[0;34m[\u001b[0m\u001b[0ma\u001b[0m\u001b[0;34m]\u001b[0m\u001b[0;34m[\u001b[0m\u001b[0;34m'is'\u001b[0m\u001b[0;34m]\u001b[0m \u001b[0;34m+\u001b[0m                             \u001b[0mLOSS_AVERSION_FACTOR\u001b[0m \u001b[0;34m*\u001b[0m \u001b[0;34m(\u001b[0m\u001b[0mx_prime\u001b[0m\u001b[0;34m[\u001b[0m\u001b[0ms\u001b[0m\u001b[0;34m]\u001b[0m \u001b[0;34m/\u001b[0m \u001b[0;34m(\u001b[0m\u001b[0mx\u001b[0m\u001b[0;34m[\u001b[0m\u001b[0ms\u001b[0m\u001b[0;34m]\u001b[0m \u001b[0;34m+\u001b[0m \u001b[0mx_prime\u001b[0m\u001b[0;34m[\u001b[0m\u001b[0ms\u001b[0m\u001b[0;34m]\u001b[0m\u001b[0;34m)\u001b[0m\u001b[0;34m)\u001b[0m \u001b[0;34m*\u001b[0m \u001b[0mrewards\u001b[0m\u001b[0;34m[\u001b[0m\u001b[0ms\u001b[0m\u001b[0;34m]\u001b[0m\u001b[0;34m[\u001b[0m\u001b[0mtheta\u001b[0m\u001b[0;34m]\u001b[0m\u001b[0;34m[\u001b[0m\u001b[0ma\u001b[0m\u001b[0;34m]\u001b[0m\u001b[0;34m[\u001b[0m\u001b[0;34m'is'\u001b[0m\u001b[0;34m]\u001b[0m\u001b[0;34m)\u001b[0m                     \u001b[0;32mfor\u001b[0m \u001b[0ms\u001b[0m \u001b[0;32min\u001b[0m \u001b[0mrange\u001b[0m\u001b[0;34m(\u001b[0m\u001b[0mNUM_SERVICES\u001b[0m\u001b[0;34m)\u001b[0m                    \u001b[0;32mfor\u001b[0m \u001b[0mtheta\u001b[0m \u001b[0;32min\u001b[0m \u001b[0mrange\u001b[0m\u001b[0;34m(\u001b[0m\u001b[0mNUM_ATTACKERS\u001b[0m\u001b[0;34m)\u001b[0m                    \u001b[0;32mfor\u001b[0m \u001b[0ma\u001b[0m \u001b[0;32min\u001b[0m \u001b[0mrange\u001b[0m\u001b[0;34m(\u001b[0m\u001b[0mlen\u001b[0m\u001b[0;34m(\u001b[0m\u001b[0mrewards\u001b[0m\u001b[0;34m[\u001b[0m\u001b[0ms\u001b[0m\u001b[0;34m]\u001b[0m\u001b[0;34m[\u001b[0m\u001b[0mtheta\u001b[0m\u001b[0;34m]\u001b[0m\u001b[0;34m)\u001b[0m\u001b[0;34m)\u001b[0m\u001b[0;34m)\u001b[0m\u001b[0;34m,\u001b[0m \u001b[0mGRB\u001b[0m\u001b[0;34m.\u001b[0m\u001b[0mMAXIMIZE\u001b[0m\u001b[0;34m)\u001b[0m\u001b[0;34m\u001b[0m\u001b[0m\n\u001b[0m\u001b[1;32m     44\u001b[0m \u001b[0;34m\u001b[0m\u001b[0m\n\u001b[1;32m     45\u001b[0m \u001b[0;31m#o = 0\u001b[0m\u001b[0;34m\u001b[0m\u001b[0;34m\u001b[0m\u001b[0m\n",
      "\u001b[0;32mlinexpr.pxi\u001b[0m in \u001b[0;36mgurobipy.LinExpr.__div__ (../../src/python/gurobipy.c:33567)\u001b[0;34m()\u001b[0m\n",
      "\u001b[0;31mGurobiError\u001b[0m: Divisor must be a constant"
     ]
    }
   ],
   "source": [
    "NUM_ATTACKERS = 3\n",
    "NUM_NODES = 100\n",
    "NUM_SERVICES = 4\n",
    "M = 99999\n",
    "LOSS_AVERSION_FACTOR = 0.1\n",
    "ATTACKER_LOSS_FACTOR = 0.3\n",
    "# reward[s][theta][a] is reward when service s is used for attacker theta action a\n",
    "# first attacker has 2 actions for service 0 and 3 for service 1\n",
    "\n",
    "# defender rewards for actions on honeypots are negative of legit rewards for defenders\n",
    "# attacker rewards for actions on legit servers are negative of legit rewards for defenders\n",
    "# attacker rewards for actions on honeypots are the same as legit rewards for defenders\n",
    "\n",
    "attacker_prob = [0.5, 0.4, 0.1]\n",
    "\n",
    "#required services (must have 2 of service 0 and 3 of service 1)\n",
    "x = [0.1, 0.08, 0.06, 0.04]\n",
    "\n",
    "m = Model('0407')\n",
    "\n",
    "x_prime = []\n",
    "# mixed strategy over service options\n",
    "for i in range(NUM_SERVICES):\n",
    "    x_prime.append(m.addVar(lb=0, vtype=GRB.CONTINUOUS, name='x' + str(i)))\n",
    "\n",
    "# n: attacker pure strategy\n",
    "# n[theta][s][a] is whether attack a for service s for attacker theta is selected\n",
    "# attackers only choose one attack\n",
    "n = [] \n",
    "for theta in range(NUM_ATTACKERS):\n",
    "    n_t = []\n",
    "    for s in range(NUM_SERVICES):\n",
    "        n_s = []\n",
    "        for a in range(len(rewards[s][theta])):\n",
    "            n_s.append(m.addVar(vtype=GRB.BINARY, name='n_{0}_{1}_{2}'.format(theta, s ,a)))\n",
    "        n_t.append(n_s)\n",
    "    n.append(n_t)\n",
    "    \n",
    "v = []\n",
    "for v_i in range(NUM_ATTACKERS):\n",
    "    v.append(m.addVar(vtype=GRB.CONTINUOUS, name='v_{0}'.format(v_i)))\n",
    "\n",
    "m.setObjective(sum(attacker_prob[theta] * n[theta][s][a] * ((x[s] / (x[s] + x_prime[s])) * -1 * rewards[s][theta][a]['is'] + \\\n",
    "                            LOSS_AVERSION_FACTOR * (x_prime[s] / (x[s] + x_prime[s])) * rewards[s][theta][a]['is']) \\\n",
    "                    for s in range(NUM_SERVICES) \\\n",
    "                   for theta in range(NUM_ATTACKERS) \\\n",
    "                   for a in range(len(rewards[s][theta]))), GRB.MAXIMIZE)\n",
    "\n",
    "#o = 0\n",
    "#for s in range(NUM_SERVICES):\n",
    "#    for theta in range(NUM_ATTACKERS):\n",
    "#        for a in range(len(rewards[s][theta])):\n",
    "#            o += attacker_prob[theta] * n[theta][s][a] * (x[s] * -1 * rewards[s][theta][a]['is'] + \\\n",
    "#                                                             x_prime[s] * rewards[s][theta][a]['is'])\n",
    "            \n",
    "\n",
    "# how to rewrite constraint that requires the attacker to choose the best action available given the \n",
    "# defender's best action\n",
    "\n",
    "# I think we can restrict n to binary (instead of number of attacks) because attacking multiple times will just\n",
    "# give a linear increase in the reward.  Also, I think the attacker can always just choose a single attack instead\n",
    "# of multiple as there is going to always be a dominant single attack that will net the most points and the attacker\n",
    "# will only pick multiple attacks if they have the same max value\n",
    "\n",
    "\n",
    "m.addConstr(sum(x_prime[s] + x[s] for s in range(NUM_SERVICES)) == 1, 'defender_strat')\n",
    "m.addConstrs((sum(sum(n[theta][s]) for s in range(NUM_SERVICES)) == 1 for theta in range(NUM_ATTACKERS)),\n",
    "               'attacker_strat')\n",
    "m.addConstrs((0 <= v[theta] - (rewards[s][theta][a]['bs'] * (x[s] / (x[s] + x_prime[s])) +\n",
    "                                  -1 * ATTACKER_LOSS_FACTOR * rewards[s][theta][a]['es'] * (x_prime[s] / (x[s] + x_prime[s])))  \\\n",
    "                for s in range(NUM_SERVICES) \\\n",
    "             for theta in range(NUM_ATTACKERS) \\\n",
    "             for a in range(len(rewards[s][theta]))),  'attacker_best_strat_1')\n",
    "m.addConstrs((v[theta] - (rewards[s][theta][a]['bs'] * (x[s] / (x[s] + x_prime[s])) +\n",
    "                                  -1 * ATTACKER_LOSS_FACTOR * rewards[s][theta][a]['es'] * (x_prime[s] / (x[s] + x_prime[s])))  \\\n",
    "             <= (1 - n[theta][s][a]) * M\n",
    "                for s in range(NUM_SERVICES)\n",
    "             for theta in range(NUM_ATTACKERS) \\\n",
    "             for a in range(len(rewards[s][theta]))),  'attacker_best_strat_2')\n",
    "\n",
    "m.optimize()\n",
    "\n"
   ]
  },
  {
   "cell_type": "code",
   "execution_count": 124,
   "metadata": {
    "collapsed": false
   },
   "outputs": [
    {
     "name": "stdout",
     "output_type": "stream",
     "text": [
      "('x0', 0.2165709230926782)\n",
      "('x1', 0.1871422624626589)\n",
      "('x2', 0.26247788531630756)\n",
      "('x3', 0.053808929128355276)\n",
      "('n_0_0_0', 0.0)\n",
      "('n_0_2_0', 0.0)\n",
      "('n_0_2_1', 0.0)\n",
      "('n_0_3_0', 1.0)\n",
      "('n_1_0_0', 0.0)\n",
      "('n_1_0_1', 0.0)\n",
      "('n_1_0_2', 0.0)\n",
      "('n_1_2_0', 0.0)\n",
      "('n_1_2_1', 0.0)\n",
      "('n_1_2_2', 0.0)\n",
      "('n_1_2_3', 0.0)\n",
      "('n_1_2_4', 0.0)\n",
      "('n_1_2_5', 0.0)\n",
      "('n_1_2_6', 0.0)\n",
      "('n_1_2_7', 0.0)\n",
      "('n_1_2_8', 0.0)\n",
      "('n_1_3_0', 0.0)\n",
      "('n_1_3_1', 1.0)\n",
      "('n_1_3_2', 0.0)\n",
      "('n_2_0_0', 0.0)\n",
      "('n_2_0_1', 0.0)\n",
      "('n_2_0_2', 0.0)\n",
      "('n_2_0_3', 0.0)\n",
      "('n_2_1_0', 0.0)\n",
      "('n_2_1_1', 0.0)\n",
      "('n_2_1_2', 0.0)\n",
      "('n_2_1_3', 5.689893001203927e-16)\n",
      "('n_2_1_4', 0.0)\n",
      "('n_2_1_5', 0.0)\n",
      "('n_2_1_6', 0.0)\n",
      "('n_2_1_7', 0.0)\n",
      "('n_2_1_8', 0.0)\n",
      "('n_2_1_9', 0.0)\n",
      "('n_2_1_10', 0.0)\n",
      "('n_2_1_11', 0.0)\n",
      "('n_2_1_12', 0.0)\n",
      "('n_2_1_13', 0.0)\n",
      "('n_2_1_14', 0.0)\n",
      "('n_2_1_15', 0.0)\n",
      "('n_2_1_16', 0.0)\n",
      "('n_2_1_17', 0.0)\n",
      "('n_2_1_18', 0.0)\n",
      "('n_2_1_19', 0.0)\n",
      "('n_2_1_20', 0.0)\n",
      "('n_2_1_21', 0.0)\n",
      "('n_2_1_22', 0.0)\n",
      "('n_2_1_23', 0.0)\n",
      "('n_2_1_24', 0.0)\n",
      "('n_2_1_25', 0.0)\n",
      "('n_2_1_26', 0.0)\n",
      "('n_2_1_27', 0.0)\n",
      "('n_2_1_28', 0.0)\n",
      "('n_2_1_29', 0.0)\n",
      "('n_2_1_30', 0.0)\n",
      "('n_2_1_31', 0.0)\n",
      "('n_2_1_32', 0.0)\n",
      "('n_2_1_33', 0.0)\n",
      "('n_2_1_34', 0.0)\n",
      "('n_2_1_35', 0.0)\n",
      "('n_2_1_36', 0.0)\n",
      "('n_2_1_37', 0.0)\n",
      "('n_2_1_38', 0.0)\n",
      "('n_2_1_39', 0.0)\n",
      "('n_2_1_40', 0.0)\n",
      "('n_2_1_41', 0.0)\n",
      "('n_2_1_42', 0.0)\n",
      "('n_2_1_43', 0.0)\n",
      "('n_2_1_44', 0.0)\n",
      "('n_2_1_45', 0.0)\n",
      "('n_2_1_46', 0.0)\n",
      "('n_2_1_47', 0.0)\n",
      "('n_2_1_48', 0.0)\n",
      "('n_2_1_49', 0.0)\n",
      "('n_2_1_50', 0.0)\n",
      "('n_2_1_51', 0.0)\n",
      "('n_2_1_52', 0.0)\n",
      "('n_2_1_53', 0.0)\n",
      "('n_2_1_54', 0.0)\n",
      "('n_2_1_55', 0.0)\n",
      "('n_2_1_56', 0.0)\n",
      "('n_2_1_57', 0.0)\n",
      "('n_2_1_58', 0.0)\n",
      "('n_2_1_59', 0.0)\n",
      "('n_2_1_60', 0.0)\n",
      "('n_2_1_61', 0.0)\n",
      "('n_2_1_62', 0.0)\n",
      "('n_2_1_63', 0.0)\n",
      "('n_2_1_64', 0.0)\n",
      "('n_2_1_65', 0.0)\n",
      "('n_2_1_66', 0.0)\n",
      "('n_2_1_67', 0.0)\n",
      "('n_2_1_68', 0.0)\n",
      "('n_2_1_69', 0.0)\n",
      "('n_2_1_70', 0.0)\n",
      "('n_2_1_71', 0.0)\n",
      "('n_2_1_72', 0.0)\n",
      "('n_2_1_73', 0.0)\n",
      "('n_2_1_74', 0.0)\n",
      "('n_2_1_75', 0.0)\n",
      "('n_2_1_76', 0.0)\n",
      "('n_2_1_77', 0.0)\n",
      "('n_2_1_78', 0.0)\n",
      "('n_2_1_79', 0.0)\n",
      "('n_2_1_80', 0.0)\n",
      "('n_2_1_81', 0.0)\n",
      "('n_2_1_82', 0.0)\n",
      "('n_2_1_83', 0.0)\n",
      "('n_2_1_84', 0.0)\n",
      "('n_2_2_0', 0.0)\n",
      "('n_2_2_1', 0.0)\n",
      "('n_2_2_2', 0.0)\n",
      "('n_2_2_3', 0.0)\n",
      "('n_2_2_4', 0.0)\n",
      "('n_2_2_5', 0.0)\n",
      "('n_2_2_6', 0.0)\n",
      "('n_2_2_7', 0.0)\n",
      "('n_2_2_8', 0.0)\n",
      "('n_2_2_9', 0.0)\n",
      "('n_2_2_10', 0.0)\n",
      "('n_2_2_11', 0.0)\n",
      "('n_2_2_12', 0.0)\n",
      "('n_2_2_13', 0.0)\n",
      "('n_2_2_14', 0.0)\n",
      "('n_2_2_15', 0.0)\n",
      "('n_2_3_0', 0.0)\n",
      "('n_2_3_1', 0.0)\n",
      "('n_2_3_2', 1.0)\n",
      "('n_2_3_3', 0.0)\n",
      "('n_2_3_4', 0.0)\n",
      "('n_2_3_5', 0.0)\n",
      "('n_2_3_6', 0.0)\n",
      "('n_2_3_7', 0.0)\n",
      "('n_2_3_8', 0.0)\n",
      "('n_2_3_9', 0.0)\n",
      "('n_2_3_10', 0.0)\n",
      "('n_2_3_11', 0.0)\n",
      "('n_2_3_12', 0.0)\n",
      "('n_2_3_13', 0.0)\n",
      "('n_2_3_14', 0.0)\n",
      "('n_2_3_15', 0.0)\n",
      "('n_2_3_16', 0.0)\n",
      "('n_2_3_17', 0.0)\n",
      "('n_2_3_18', 0.0)\n",
      "('v_0', 0.12490087417992013)\n",
      "('v_1', 0.13022978457757234)\n",
      "('v_2', 0.23857321261202336)\n",
      "('Obj:', -0.2340251639092319)\n"
     ]
    }
   ],
   "source": [
    "for var in m.getVars():\n",
    "    print(var.varName, var.x)\n",
    "print('Obj:', m.objVal)"
   ]
  },
  {
   "cell_type": "code",
   "execution_count": 125,
   "metadata": {
    "collapsed": false
   },
   "outputs": [
    {
     "data": {
      "text/plain": [
       "[('x0', 0.2165709230926782),\n",
       " ('x1', 0.1871422624626589),\n",
       " ('x2', 0.26247788531630756),\n",
       " ('x3', 0.053808929128355276),\n",
       " ('n_0_3_0', 1.0),\n",
       " ('n_1_3_1', 1.0),\n",
       " ('n_2_1_3', 5.689893001203927e-16),\n",
       " ('n_2_3_2', 1.0),\n",
       " ('v_0', 0.12490087417992013),\n",
       " ('v_1', 0.13022978457757234),\n",
       " ('v_2', 0.23857321261202336)]"
      ]
     },
     "execution_count": 125,
     "metadata": {},
     "output_type": "execute_result"
    }
   ],
   "source": [
    "[(var.varName, var.x) for var in m.getVars() if var.x != 0]"
   ]
  },
  {
   "cell_type": "code",
   "execution_count": 130,
   "metadata": {
    "collapsed": false
   },
   "outputs": [
    {
     "data": {
      "text/plain": [
       "({'bs': 5.1, 'cve_id': u'CVE-2014-0472', 'es': 4.9, 'is': 6.4},\n",
       " {'bs': 6.0, 'cve_id': u'CVE-2014-0482', 'es': 6.8, 'is': 6.4},\n",
       " {'bs': 10.0, 'cve_id': u'CVE-2014-0474', 'es': 10.0, 'is': 10.0})"
      ]
     },
     "execution_count": 130,
     "metadata": {},
     "output_type": "execute_result"
    }
   ],
   "source": [
    "rewards[3][0][0], rewards[3][1][1], rewards[3][2][2]"
   ]
  },
  {
   "cell_type": "code",
   "execution_count": 136,
   "metadata": {
    "collapsed": false
   },
   "outputs": [
    {
     "data": {
      "text/plain": [
       "0.2165709230926782"
      ]
     },
     "execution_count": 136,
     "metadata": {},
     "output_type": "execute_result"
    }
   ],
   "source": [
    "m.getVarByName(\"x0\")"
   ]
  },
  {
   "cell_type": "code",
   "execution_count": 141,
   "metadata": {
    "collapsed": true
   },
   "outputs": [],
   "source": [
    "def baseline(x_prime_custom):\n",
    "    return sum(attacker_prob[theta] * m.getVarByName(\"n_{0}_{1}_{2}\".format(theta, s, a)).X * (x[s] * -1 * rewards[s][theta][a]['is'] + \\\n",
    "                                                            LOSS_AVERSION_FACTOR * m.getVarByName(\"x\" + str(s)).X * rewards[s][theta][a]['is']) \\\n",
    "                    for s in range(NUM_SERVICES) \\\n",
    "                   for theta in range(NUM_ATTACKERS) \\\n",
    "                   for a in range(len(rewards[s][theta])))"
   ]
  },
  {
   "cell_type": "code",
   "execution_count": 144,
   "metadata": {
    "collapsed": false
   },
   "outputs": [
    {
     "name": "stdout",
     "output_type": "stream",
     "text": [
      "Optimize a model with 294 rows, 150 columns and 868 nonzeros\n",
      "Model has 143 quadratic objective terms\n",
      "Variable types: 7 continuous, 143 integer (143 binary)\n",
      "Coefficient statistics:\n",
      "  Matrix range     [1e+00, 1e+05]\n",
      "  Objective range  [1e-02, 3e-01]\n",
      "  QObjective range [6e-02, 1e+00]\n",
      "  Bounds range     [1e+00, 1e+00]\n",
      "  RHS range        [1e-01, 1e+05]\n",
      "Presolve removed 294 rows and 150 columns\n",
      "Presolve time: 0.00s\n",
      "Presolve: All rows and columns removed\n",
      "\n",
      "Explored 0 nodes (0 simplex iterations) in 0.02 seconds\n",
      "Thread count was 1 (of 4 available processors)\n",
      "\n",
      "Solution count 1: -0.44 \n",
      "\n",
      "Optimal solution found (tolerance 1.00e-04)\n",
      "Best objective -4.400000000000e-01, best bound -4.400000000000e-01, gap 0.0000%\n"
     ]
    }
   ],
   "source": [
    "NUM_ATTACKERS = 3\n",
    "NUM_NODES = 100\n",
    "NUM_SERVICES = 4\n",
    "M = 99999\n",
    "LOSS_AVERSION_FACTOR = 0.1\n",
    "ATTACKER_LOSS_FACTOR = 0.3\n",
    "# reward[s][theta][a] is reward when service s is used for attacker theta action a\n",
    "# first attacker has 2 actions for service 0 and 3 for service 1\n",
    "\n",
    "# defender rewards for actions on honeypots are negative of legit rewards for defenders\n",
    "# attacker rewards for actions on legit servers are negative of legit rewards for defenders\n",
    "# attacker rewards for actions on honeypots are the same as legit rewards for defenders\n",
    "\n",
    "attacker_prob = [0.5, 0.4, 0.1]\n",
    "\n",
    "#required services (must have 2 of service 0 and 3 of service 1)\n",
    "x = [0.1, 0.08, 0.06, 0.04]\n",
    "\n",
    "m = Model('0407')\n",
    "\n",
    "x_prime = []\n",
    "# mixed strategy over service options\n",
    "for i in range(NUM_SERVICES):\n",
    "    x_prime.append(m.addVar(lb=0, vtype=GRB.CONTINUOUS, name='x' + str(i)))\n",
    "\n",
    "# n: attacker pure strategy\n",
    "# n[theta][s][a] is whether attack a for service s for attacker theta is selected\n",
    "# attackers only choose one attack\n",
    "n = [] \n",
    "for theta in range(NUM_ATTACKERS):\n",
    "    n_t = []\n",
    "    for s in range(NUM_SERVICES):\n",
    "        n_s = []\n",
    "        for a in range(len(rewards[s][theta])):\n",
    "            n_s.append(m.addVar(vtype=GRB.BINARY, name='n_{0}_{1}_{2}'.format(theta, s ,a)))\n",
    "        n_t.append(n_s)\n",
    "    n.append(n_t)\n",
    "    \n",
    "v = []\n",
    "for v_i in range(NUM_ATTACKERS):\n",
    "    v.append(m.addVar(vtype=GRB.CONTINUOUS, name='v_{0}'.format(v_i)))\n",
    "\n",
    "m.setObjective(sum(attacker_prob[theta] * n[theta][s][a] * (x[s] * -1 * rewards[s][theta][a]['is'] + \\\n",
    "                                                            LOSS_AVERSION_FACTOR * x_prime[s] * rewards[s][theta][a]['is']) \\\n",
    "                    for s in range(NUM_SERVICES) \\\n",
    "                   for theta in range(NUM_ATTACKERS) \\\n",
    "                   for a in range(len(rewards[s][theta]))), GRB.MAXIMIZE)\n",
    "\n",
    "#o = 0\n",
    "#for s in range(NUM_SERVICES):\n",
    "#    for theta in range(NUM_ATTACKERS):\n",
    "#        for a in range(len(rewards[s][theta])):\n",
    "#            o += attacker_prob[theta] * n[theta][s][a] * (x[s] * -1 * rewards[s][theta][a]['is'] + \\\n",
    "#                                                             x_prime[s] * rewards[s][theta][a]['is'])\n",
    "            \n",
    "\n",
    "# how to rewrite constraint that requires the attacker to choose the best action available given the \n",
    "# defender's best action\n",
    "\n",
    "# I think we can restrict n to binary (instead of number of attacks) because attacking multiple times will just\n",
    "# give a linear increase in the reward.  Also, I think the attacker can always just choose a single attack instead\n",
    "# of multiple as there is going to always be a dominant single attack that will net the most points and the attacker\n",
    "# will only pick multiple attacks if they have the same max value\n",
    "\n",
    "m.addConstrs((x_prime[0] == x_prime[i] for i in range(len(x_prime))), \"proportional\")\n",
    "m.addConstr(sum(x_prime[s] + x[s] for s in range(NUM_SERVICES)) == 1, 'defender_strat')\n",
    "m.addConstrs((sum(sum(n[theta][s]) for s in range(NUM_SERVICES)) == 1 for theta in range(NUM_ATTACKERS)),\n",
    "               'attacker_strat')\n",
    "m.addConstrs((0 <= v[theta] - (rewards[s][theta][a]['bs'] * x[s] +\n",
    "                                  -1 * ATTACKER_LOSS_FACTOR * rewards[s][theta][a]['es'] * x_prime[s]) \\\n",
    "                for s in range(NUM_SERVICES) \\\n",
    "             for theta in range(NUM_ATTACKERS) \\\n",
    "             for a in range(len(rewards[s][theta]))),  'attacker_best_strat_1')\n",
    "m.addConstrs((v[theta] - (rewards[s][theta][a]['bs'] * x[s] +\n",
    "                                  -1 * ATTACKER_LOSS_FACTOR * rewards[s][theta][a]['es'] * x_prime[s]) \\\n",
    "             <= (1 - n[theta][s][a]) * M\n",
    "                for s in range(NUM_SERVICES)\n",
    "             for theta in range(NUM_ATTACKERS) \\\n",
    "             for a in range(len(rewards[s][theta]))),  'attacker_best_strat_2')\n",
    "\n",
    "m.optimize()\n",
    "\n"
   ]
  },
  {
   "cell_type": "code",
   "execution_count": 145,
   "metadata": {
    "collapsed": false
   },
   "outputs": [
    {
     "data": {
      "text/plain": [
       "[('x0', 0.18),\n",
       " ('x1', 0.18),\n",
       " ('x2', 0.18),\n",
       " ('x3', 0.18),\n",
       " ('n_0_2_1', 1.0),\n",
       " ('n_1_2_3', 1.0),\n",
       " ('n_2_1_14', 1.0),\n",
       " ('v_0', 0.2214),\n",
       " ('v_1', 0.22139999999487717),\n",
       " ('v_2', 0.26)]"
      ]
     },
     "execution_count": 145,
     "metadata": {},
     "output_type": "execute_result"
    }
   ],
   "source": [
    "[(var.varName, var.x) for var in m.getVars() if var.x != 0]"
   ]
  },
  {
   "cell_type": "code",
   "execution_count": 147,
   "metadata": {
    "collapsed": false
   },
   "outputs": [
    {
     "data": {
      "text/plain": [
       "-0.4400000000000001"
      ]
     },
     "execution_count": 147,
     "metadata": {},
     "output_type": "execute_result"
    }
   ],
   "source": [
    "m.objVal"
   ]
  },
  {
   "cell_type": "code",
   "execution_count": 6,
   "metadata": {
    "collapsed": false
   },
   "outputs": [
    {
     "ename": "TypeError",
     "evalue": "a float is required",
     "output_type": "error",
     "traceback": [
      "\u001b[0;31m---------------------------------------------------------------------------\u001b[0m",
      "\u001b[0;31mTypeError\u001b[0m                                 Traceback (most recent call last)",
      "\u001b[0;32m<ipython-input-6-426b76534a64>\u001b[0m in \u001b[0;36m<module>\u001b[0;34m()\u001b[0m\n\u001b[1;32m      2\u001b[0m \u001b[0mm\u001b[0m \u001b[0;34m=\u001b[0m \u001b[0mModel\u001b[0m\u001b[0;34m(\u001b[0m\u001b[0;34m\"ashton\"\u001b[0m\u001b[0;34m)\u001b[0m\u001b[0;34m\u001b[0m\u001b[0m\n\u001b[1;32m      3\u001b[0m \u001b[0ma\u001b[0m \u001b[0;34m=\u001b[0m \u001b[0mm\u001b[0m\u001b[0;34m.\u001b[0m\u001b[0maddVar\u001b[0m\u001b[0;34m(\u001b[0m\u001b[0mvtype\u001b[0m\u001b[0;34m=\u001b[0m\u001b[0mGRB\u001b[0m\u001b[0;34m.\u001b[0m\u001b[0mCONTINUOUS\u001b[0m\u001b[0;34m,\u001b[0m \u001b[0mname\u001b[0m\u001b[0;34m=\u001b[0m\u001b[0;34m\"a\"\u001b[0m\u001b[0;34m,\u001b[0m \u001b[0mlb\u001b[0m\u001b[0;34m=\u001b[0m\u001b[0;36m3\u001b[0m\u001b[0;34m,\u001b[0m \u001b[0mub\u001b[0m\u001b[0;34m=\u001b[0m\u001b[0;36m5\u001b[0m\u001b[0;34m)\u001b[0m\u001b[0;34m\u001b[0m\u001b[0m\n\u001b[0;32m----> 4\u001b[0;31m \u001b[0mm\u001b[0m\u001b[0;34m.\u001b[0m\u001b[0msetObjective\u001b[0m\u001b[0;34m(\u001b[0m\u001b[0;34m-\u001b[0m\u001b[0;36m1\u001b[0m \u001b[0;34m*\u001b[0m \u001b[0mmath\u001b[0m\u001b[0;34m.\u001b[0m\u001b[0mlog\u001b[0m\u001b[0;34m(\u001b[0m\u001b[0ma\u001b[0m\u001b[0;34m)\u001b[0m\u001b[0;34m,\u001b[0m \u001b[0mGRB\u001b[0m\u001b[0;34m.\u001b[0m\u001b[0mMAXIMIZE\u001b[0m\u001b[0;34m)\u001b[0m\u001b[0;34m\u001b[0m\u001b[0m\n\u001b[0m\u001b[1;32m      5\u001b[0m \u001b[0mm\u001b[0m\u001b[0;34m.\u001b[0m\u001b[0moptimize\u001b[0m\u001b[0;34m(\u001b[0m\u001b[0;34m)\u001b[0m\u001b[0;34m\u001b[0m\u001b[0m\n",
      "\u001b[0;31mTypeError\u001b[0m: a float is required"
     ]
    }
   ],
   "source": [
    "\n",
    "m = Model(\"ashton\")\n",
    "a = m.addVar(vtype=GRB.CONTINUOUS, name=\"a\", lb=3, ub=5)\n",
    "m.setObjective(-1 * math.log(a), GRB.MAXIMIZE)\n",
    "m.optimize()"
   ]
  },
  {
   "cell_type": "code",
   "execution_count": 4,
   "metadata": {
    "collapsed": false
   },
   "outputs": [],
   "source": [
    "import math"
   ]
  },
  {
   "cell_type": "code",
   "execution_count": null,
   "metadata": {
    "collapsed": true
   },
   "outputs": [],
   "source": []
  }
 ],
 "metadata": {
  "kernelspec": {
   "display_name": "Python 2",
   "language": "python",
   "name": "python2"
  },
  "language_info": {
   "codemirror_mode": {
    "name": "ipython",
    "version": 2
   },
   "file_extension": ".py",
   "mimetype": "text/x-python",
   "name": "python",
   "nbconvert_exporter": "python",
   "pygments_lexer": "ipython2",
   "version": "2.7.13"
  }
 },
 "nbformat": 4,
 "nbformat_minor": 2
}
